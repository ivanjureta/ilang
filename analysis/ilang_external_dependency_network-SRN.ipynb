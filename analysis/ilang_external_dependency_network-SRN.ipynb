{
 "cells": [
  {
   "cell_type": "code",
   "execution_count": 1,
   "metadata": {},
   "outputs": [],
   "source": [
    "import ilang_fs as il"
   ]
  },
  {
   "cell_type": "code",
   "execution_count": 2,
   "metadata": {},
   "outputs": [],
   "source": [
    "project_name = 'SRN'"
   ]
  },
  {
   "cell_type": "code",
   "execution_count": 3,
   "metadata": {},
   "outputs": [],
   "source": [
    "il.setup_project(project_name, True)"
   ]
  },
  {
   "cell_type": "code",
   "execution_count": 4,
   "metadata": {},
   "outputs": [],
   "source": [
    "data = il.raw_data_from_CSV('raw_data/ilang_SRN_data.csv', ',')"
   ]
  },
  {
   "cell_type": "code",
   "execution_count": 5,
   "metadata": {},
   "outputs": [],
   "source": [
    "structured_data = il.structure_raw_data(data)"
   ]
  },
  {
   "cell_type": "code",
   "execution_count": 6,
   "metadata": {},
   "outputs": [],
   "source": [
    "definition_network = il.make_rel_net(structured_data, 'Definiens', 'Definiendum')"
   ]
  },
  {
   "cell_type": "code",
   "execution_count": 7,
   "metadata": {},
   "outputs": [],
   "source": [
    "structured_dependency_network_data = il.structure_dependency_network_data(structured_data)"
   ]
  },
  {
   "cell_type": "code",
   "execution_count": 8,
   "metadata": {
    "scrolled": false
   },
   "outputs": [],
   "source": [
    "internal_term_candidates = il.find_internal_term_candidates(structured_dependency_network_data, conservative = True, descending = True, showcount = 20)"
   ]
  },
  {
   "cell_type": "code",
   "execution_count": 9,
   "metadata": {},
   "outputs": [],
   "source": [
    "wordlist = list()\n",
    "for i in internal_term_candidates['definientia_appearances_stats']:\n",
    "    wordlist.append((i, internal_term_candidates['definientia_appearances_stats'][i]['used_in_internal_terms_count'], internal_term_candidates['crossing_dependencies_stats'][i]))"
   ]
  },
  {
   "cell_type": "code",
   "execution_count": 10,
   "metadata": {},
   "outputs": [
    {
     "data": {
      "text/plain": [
       "[('smart', 1, 1),\n",
       " ('retail', 1, 1),\n",
       " ('network', 1, 1),\n",
       " ('software', 2, 2),\n",
       " ('shop', 6, 7),\n",
       " ('display', 5, 4),\n",
       " ('management', 1, 1),\n",
       " ('object', 1, 1),\n",
       " ('installed', 1, 1),\n",
       " ('pop', 5, 8),\n",
       " ('used', 2, 2),\n",
       " ('promote', 1, 1),\n",
       " ('products;', 1, 1),\n",
       " ('synonym', 1, 1),\n",
       " ('fixture', 1, 1),\n",
       " ('cannot', 1, 1),\n",
       " ('subdivided', 1, 1),\n",
       " ('made', 1, 1),\n",
       " ('two', 2, 1),\n",
       " ('basic', 1, 1),\n",
       " ('displays', 2, 2),\n",
       " ('unique', 1, 1),\n",
       " ('numeric', 1, 1),\n",
       " ('identifier', 1, 1),\n",
       " ('generated', 2, 2),\n",
       " ('sdm', 2, 2),\n",
       " ('bsd', 1, 2),\n",
       " ('identify', 1, 1),\n",
       " ('qr', 1, 1),\n",
       " ('code', 1, 1),\n",
       " ('scanner', 1, 1),\n",
       " ('available', 1, 1),\n",
       " ('representative', 1, 1),\n",
       " ('company', 1, 1),\n",
       " ('supplying', 1, 1),\n",
       " ('location', 1, 1),\n",
       " ('products', 4, 3),\n",
       " ('sold', 2, 2),\n",
       " ('individual', 3, 3),\n",
       " ('visiting', 1, 2),\n",
       " ('collecting', 1, 1),\n",
       " ('data', 4, 6),\n",
       " ('pop;', 1, 1),\n",
       " ('fmr', 3, 3),\n",
       " ('typically', 1, 1),\n",
       " ('gets', 1, 1),\n",
       " ('list', 1, 1),\n",
       " ('visit', 1, 1),\n",
       " ('upon', 1, 1),\n",
       " ('collects', 1, 1),\n",
       " ('characteristics', 1, 1),\n",
       " ('use', 3, 1),\n",
       " ('employed', 1, 1),\n",
       " ('involved', 1, 1),\n",
       " ('selling', 1, 1),\n",
       " ('andor', 2, 2),\n",
       " ('presentation', 2, 2),\n",
       " ('samsung', 1, 1),\n",
       " ('customers', 1, 1),\n",
       " ('supervising', 1, 1),\n",
       " ('one', 1, 1),\n",
       " ('text', 1, 1),\n",
       " ('measurements', 1, 1),\n",
       " ('images', 1, 1),\n",
       " ('collected', 1, 1),\n",
       " ('table', 1, 1),\n",
       " ('chart', 1, 1),\n",
       " ('excel', 1, 1),\n",
       " ('powerpoint', 1, 1),\n",
       " ('file', 1, 1),\n",
       " ('srn', 3, 3),\n",
       " ('facilitate', 1, 1),\n",
       " ('understanding', 1, 1),\n",
       " ('employee', 2, 2),\n",
       " ('interested', 2, 2),\n",
       " ('analyzing', 1, 1),\n",
       " ('stored', 1, 1),\n",
       " ('changing', 1, 1),\n",
       " ('settings', 1, 1),\n",
       " ('performing', 1, 1),\n",
       " ('maintenance', 1, 1)]"
      ]
     },
     "execution_count": 10,
     "metadata": {},
     "output_type": "execute_result"
    }
   ],
   "source": [
    "wordlist"
   ]
  },
  {
   "cell_type": "code",
   "execution_count": 11,
   "metadata": {},
   "outputs": [
    {
     "name": "stdout",
     "output_type": "stream",
     "text": [
      "| External Term   |   Definientia Appearances |   Crossing Dependencies |\n",
      "|:----------------|--------------------------:|------------------------:|\n",
      "| smart           |                         1 |                       1 |\n",
      "| retail          |                         1 |                       1 |\n",
      "| network         |                         1 |                       1 |\n",
      "| software        |                         2 |                       2 |\n",
      "| shop            |                         6 |                       7 |\n",
      "| display         |                         5 |                       4 |\n",
      "| management      |                         1 |                       1 |\n",
      "| object          |                         1 |                       1 |\n",
      "| installed       |                         1 |                       1 |\n",
      "| pop             |                         5 |                       8 |\n",
      "| used            |                         2 |                       2 |\n",
      "| promote         |                         1 |                       1 |\n",
      "| products;       |                         1 |                       1 |\n",
      "| synonym         |                         1 |                       1 |\n",
      "| fixture         |                         1 |                       1 |\n",
      "| cannot          |                         1 |                       1 |\n",
      "| subdivided      |                         1 |                       1 |\n",
      "| made            |                         1 |                       1 |\n",
      "| two             |                         2 |                       1 |\n",
      "| basic           |                         1 |                       1 |\n",
      "| displays        |                         2 |                       2 |\n",
      "| unique          |                         1 |                       1 |\n",
      "| numeric         |                         1 |                       1 |\n",
      "| identifier      |                         1 |                       1 |\n",
      "| generated       |                         2 |                       2 |\n",
      "| sdm             |                         2 |                       2 |\n",
      "| bsd             |                         1 |                       2 |\n",
      "| identify        |                         1 |                       1 |\n",
      "| qr              |                         1 |                       1 |\n",
      "| code            |                         1 |                       1 |\n",
      "| scanner         |                         1 |                       1 |\n",
      "| available       |                         1 |                       1 |\n",
      "| representative  |                         1 |                       1 |\n",
      "| company         |                         1 |                       1 |\n",
      "| supplying       |                         1 |                       1 |\n",
      "| location        |                         1 |                       1 |\n",
      "| products        |                         4 |                       3 |\n",
      "| sold            |                         2 |                       2 |\n",
      "| individual      |                         3 |                       3 |\n",
      "| visiting        |                         1 |                       2 |\n",
      "| collecting      |                         1 |                       1 |\n",
      "| data            |                         4 |                       6 |\n",
      "| pop;            |                         1 |                       1 |\n",
      "| fmr             |                         3 |                       3 |\n",
      "| typically       |                         1 |                       1 |\n",
      "| gets            |                         1 |                       1 |\n",
      "| list            |                         1 |                       1 |\n",
      "| visit           |                         1 |                       1 |\n",
      "| upon            |                         1 |                       1 |\n",
      "| collects        |                         1 |                       1 |\n",
      "| characteristics |                         1 |                       1 |\n",
      "| use             |                         3 |                       1 |\n",
      "| employed        |                         1 |                       1 |\n",
      "| involved        |                         1 |                       1 |\n",
      "| selling         |                         1 |                       1 |\n",
      "| andor           |                         2 |                       2 |\n",
      "| presentation    |                         2 |                       2 |\n",
      "| samsung         |                         1 |                       1 |\n",
      "| customers       |                         1 |                       1 |\n",
      "| supervising     |                         1 |                       1 |\n",
      "| one             |                         1 |                       1 |\n",
      "| text            |                         1 |                       1 |\n",
      "| measurements    |                         1 |                       1 |\n",
      "| images          |                         1 |                       1 |\n",
      "| collected       |                         1 |                       1 |\n",
      "| table           |                         1 |                       1 |\n",
      "| chart           |                         1 |                       1 |\n",
      "| excel           |                         1 |                       1 |\n",
      "| powerpoint      |                         1 |                       1 |\n",
      "| file            |                         1 |                       1 |\n",
      "| srn             |                         3 |                       3 |\n",
      "| facilitate      |                         1 |                       1 |\n",
      "| understanding   |                         1 |                       1 |\n",
      "| employee        |                         2 |                       2 |\n",
      "| interested      |                         2 |                       2 |\n",
      "| analyzing       |                         1 |                       1 |\n",
      "| stored          |                         1 |                       1 |\n",
      "| changing        |                         1 |                       1 |\n",
      "| settings        |                         1 |                       1 |\n",
      "| performing      |                         1 |                       1 |\n",
      "| maintenance     |                         1 |                       1 |\n"
     ]
    }
   ],
   "source": [
    "from tabulate import tabulate\n",
    "print(tabulate(wordlist, headers = ['External Term', 'Definientia Appearances', 'Crossing Dependencies'], tablefmt=\"pipe\"))"
   ]
  },
  {
   "cell_type": "code",
   "execution_count": 12,
   "metadata": {},
   "outputs": [],
   "source": [
    "from operator import itemgetter\n",
    "wordlist.sort(key = itemgetter(2), reverse = True)"
   ]
  },
  {
   "cell_type": "code",
   "execution_count": 13,
   "metadata": {},
   "outputs": [
    {
     "name": "stdout",
     "output_type": "stream",
     "text": [
      "| External Term   |   Definientia Appearances |   Crossing Dependencies |\n",
      "|:----------------|--------------------------:|------------------------:|\n",
      "| pop             |                         5 |                       8 |\n",
      "| shop            |                         6 |                       7 |\n",
      "| data            |                         4 |                       6 |\n",
      "| display         |                         5 |                       4 |\n",
      "| products        |                         4 |                       3 |\n",
      "| individual      |                         3 |                       3 |\n",
      "| fmr             |                         3 |                       3 |\n",
      "| srn             |                         3 |                       3 |\n",
      "| software        |                         2 |                       2 |\n",
      "| used            |                         2 |                       2 |\n",
      "| displays        |                         2 |                       2 |\n",
      "| generated       |                         2 |                       2 |\n",
      "| sdm             |                         2 |                       2 |\n",
      "| bsd             |                         1 |                       2 |\n",
      "| sold            |                         2 |                       2 |\n",
      "| visiting        |                         1 |                       2 |\n",
      "| andor           |                         2 |                       2 |\n",
      "| presentation    |                         2 |                       2 |\n",
      "| employee        |                         2 |                       2 |\n",
      "| interested      |                         2 |                       2 |\n",
      "| smart           |                         1 |                       1 |\n",
      "| retail          |                         1 |                       1 |\n",
      "| network         |                         1 |                       1 |\n",
      "| management      |                         1 |                       1 |\n",
      "| object          |                         1 |                       1 |\n",
      "| installed       |                         1 |                       1 |\n",
      "| promote         |                         1 |                       1 |\n",
      "| products;       |                         1 |                       1 |\n",
      "| synonym         |                         1 |                       1 |\n",
      "| fixture         |                         1 |                       1 |\n",
      "| cannot          |                         1 |                       1 |\n",
      "| subdivided      |                         1 |                       1 |\n",
      "| made            |                         1 |                       1 |\n",
      "| two             |                         2 |                       1 |\n",
      "| basic           |                         1 |                       1 |\n",
      "| unique          |                         1 |                       1 |\n",
      "| numeric         |                         1 |                       1 |\n",
      "| identifier      |                         1 |                       1 |\n",
      "| identify        |                         1 |                       1 |\n",
      "| qr              |                         1 |                       1 |\n",
      "| code            |                         1 |                       1 |\n",
      "| scanner         |                         1 |                       1 |\n",
      "| available       |                         1 |                       1 |\n",
      "| representative  |                         1 |                       1 |\n",
      "| company         |                         1 |                       1 |\n",
      "| supplying       |                         1 |                       1 |\n",
      "| location        |                         1 |                       1 |\n",
      "| collecting      |                         1 |                       1 |\n",
      "| pop;            |                         1 |                       1 |\n",
      "| typically       |                         1 |                       1 |\n",
      "| gets            |                         1 |                       1 |\n",
      "| list            |                         1 |                       1 |\n",
      "| visit           |                         1 |                       1 |\n",
      "| upon            |                         1 |                       1 |\n",
      "| collects        |                         1 |                       1 |\n",
      "| characteristics |                         1 |                       1 |\n",
      "| use             |                         3 |                       1 |\n",
      "| employed        |                         1 |                       1 |\n",
      "| involved        |                         1 |                       1 |\n",
      "| selling         |                         1 |                       1 |\n",
      "| samsung         |                         1 |                       1 |\n",
      "| customers       |                         1 |                       1 |\n",
      "| supervising     |                         1 |                       1 |\n",
      "| one             |                         1 |                       1 |\n",
      "| text            |                         1 |                       1 |\n",
      "| measurements    |                         1 |                       1 |\n",
      "| images          |                         1 |                       1 |\n",
      "| collected       |                         1 |                       1 |\n",
      "| table           |                         1 |                       1 |\n",
      "| chart           |                         1 |                       1 |\n",
      "| excel           |                         1 |                       1 |\n",
      "| powerpoint      |                         1 |                       1 |\n",
      "| file            |                         1 |                       1 |\n",
      "| facilitate      |                         1 |                       1 |\n",
      "| understanding   |                         1 |                       1 |\n",
      "| analyzing       |                         1 |                       1 |\n",
      "| stored          |                         1 |                       1 |\n",
      "| changing        |                         1 |                       1 |\n",
      "| settings        |                         1 |                       1 |\n",
      "| performing      |                         1 |                       1 |\n",
      "| maintenance     |                         1 |                       1 |\n"
     ]
    }
   ],
   "source": [
    "print(tabulate(wordlist, headers = ['External Term', 'Definientia Appearances', 'Crossing Dependencies'], tablefmt=\"pipe\"))"
   ]
  },
  {
   "cell_type": "code",
   "execution_count": null,
   "metadata": {},
   "outputs": [],
   "source": []
  }
 ],
 "metadata": {
  "kernelspec": {
   "display_name": "Python 3",
   "language": "python",
   "name": "python3"
  },
  "language_info": {
   "codemirror_mode": {
    "name": "ipython",
    "version": 3
   },
   "file_extension": ".py",
   "mimetype": "text/x-python",
   "name": "python",
   "nbconvert_exporter": "python",
   "pygments_lexer": "ipython3",
   "version": "3.6.5"
  }
 },
 "nbformat": 4,
 "nbformat_minor": 2
}
