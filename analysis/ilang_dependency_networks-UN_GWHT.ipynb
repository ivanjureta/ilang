{
 "cells": [
  {
   "cell_type": "code",
   "execution_count": 1,
   "metadata": {},
   "outputs": [],
   "source": [
    "import ilang_fs as il"
   ]
  },
  {
   "cell_type": "code",
   "execution_count": 2,
   "metadata": {},
   "outputs": [],
   "source": [
    "project_name = 'UN_GWHT'"
   ]
  },
  {
   "cell_type": "code",
   "execution_count": 3,
   "metadata": {},
   "outputs": [],
   "source": [
    "il.setup_project(project_name, True)"
   ]
  },
  {
   "cell_type": "code",
   "execution_count": 4,
   "metadata": {},
   "outputs": [],
   "source": [
    "data = il.raw_data_from_CSV('raw_data/ilang_UN_GWHT_data.csv', ',')"
   ]
  },
  {
   "cell_type": "code",
   "execution_count": 5,
   "metadata": {},
   "outputs": [],
   "source": [
    "structured_data = il.structure_raw_data(data)"
   ]
  },
  {
   "cell_type": "code",
   "execution_count": 6,
   "metadata": {},
   "outputs": [],
   "source": [
    "definition_network = il.make_rel_net(structured_data, 'Definiens', 'Definiendum')"
   ]
  },
  {
   "cell_type": "code",
   "execution_count": 7,
   "metadata": {},
   "outputs": [],
   "source": [
    "structured_dependency_network_data = il.structure_dependency_network_data(structured_data)"
   ]
  },
  {
   "cell_type": "code",
   "execution_count": 8,
   "metadata": {},
   "outputs": [],
   "source": [
    "internal_dependencies = il.find_internal_dependencies(structured_dependency_network_data)"
   ]
  },
  {
   "cell_type": "code",
   "execution_count": 9,
   "metadata": {},
   "outputs": [],
   "source": [
    "internal_dependency_network = il.make_internal_dependency_network(internal_dependencies)"
   ]
  },
  {
   "cell_type": "code",
   "execution_count": 10,
   "metadata": {},
   "outputs": [],
   "source": [
    "internal_dependency_stats = il.compute_internal_dependency_stats(internal_dependency_network)"
   ]
  },
  {
   "cell_type": "code",
   "execution_count": 11,
   "metadata": {},
   "outputs": [],
   "source": [
    "# Print data to text files.\n",
    "il.print_to_txt(data, project_name, 'data', save_to_project_dir = True)\n",
    "il.print_to_txt(structured_data, project_name, 'structured_data', save_to_project_dir = True)\n",
    "il.print_to_txt(definition_network.nodes(), project_name, 'definition_network_nodes', save_to_project_dir = True)\n",
    "il.print_to_txt(definition_network.edges(), project_name, 'definition_network_edges', save_to_project_dir = True)\n",
    "il.print_to_txt(structured_dependency_network_data, project_name, 'structured_dependency_network_data', save_to_project_dir = True)\n",
    "il.print_to_txt(internal_dependencies, project_name, 'internal_dependencies', save_to_project_dir = True)\n",
    "il.print_to_txt(internal_dependency_network.nodes(), project_name, 'internal_dependency_network_nodes', save_to_project_dir = True)\n",
    "il.print_to_txt(internal_dependency_network.edges(), project_name, 'internal_dependency_network_edges', save_to_project_dir = True)\n",
    "il.print_to_txt(internal_dependency_stats, project_name, 'internal_dependency_stats', save_to_project_dir = True)"
   ]
  },
  {
   "cell_type": "code",
   "execution_count": 12,
   "metadata": {
    "scrolled": true
   },
   "outputs": [
    {
     "name": "stdout",
     "output_type": "stream",
     "text": [
      "| Term                         |   In Count |   In Share |   Out Count |   Out Share |   Total Share |   Balance |\n",
      "|:-----------------------------|-----------:|-----------:|------------:|------------:|--------------:|----------:|\n",
      "| World Heritage               |         98 |      0.073 |          12 |       0.009 |         0.082 |     0.064 |\n",
      "| UNESCO                       |         91 |      0.067 |           1 |       0.001 |         0.068 |     0.066 |\n",
      "| Convention                   |         63 |      0.047 |           4 |       0.003 |         0.05  |     0.044 |\n",
      "| World Heritage List          |         53 |      0.039 |          12 |       0.009 |         0.048 |     0.03  |\n",
      "| Guidelines                   |         60 |      0.044 |           6 |       0.004 |         0.048 |     0.04  |\n",
      "| Operational Guidelines       |         60 |      0.044 |           6 |       0.004 |         0.048 |     0.04  |\n",
      "| Conservation                 |         34 |      0.025 |          27 |       0.02  |         0.045 |     0.005 |\n",
      "| Natural                      |         60 |      0.044 |           1 |       0.001 |         0.045 |     0.043 |\n",
      "| List                         |         57 |      0.042 |           3 |       0.002 |         0.044 |     0.04  |\n",
      "| World Heritage Committee     |         29 |      0.021 |          20 |       0.015 |         0.036 |     0.006 |\n",
      "| Property                     |         39 |      0.029 |          10 |       0.007 |         0.036 |     0.022 |\n",
      "| Committee                    |         44 |      0.033 |           2 |       0.001 |         0.034 |     0.032 |\n",
      "| Natural heritage             |         33 |      0.024 |          10 |       0.007 |         0.031 |     0.017 |\n",
      "| Protection                   |         24 |      0.018 |          17 |       0.013 |         0.031 |     0.005 |\n",
      "| Nomination                   |         31 |      0.023 |          11 |       0.008 |         0.031 |     0.015 |\n",
      "| Authenticity                 |         14 |      0.01  |          26 |       0.019 |         0.029 |    -0.009 |\n",
      "| Criteria                     |         17 |      0.013 |          21 |       0.016 |         0.029 |    -0.003 |\n",
      "| Evaluation                   |         16 |      0.012 |          21 |       0.016 |         0.028 |    -0.004 |\n",
      "| International assistance     |          9 |      0.007 |          25 |       0.019 |         0.026 |    -0.012 |\n",
      "| Integrity                    |          8 |      0.006 |          27 |       0.02  |         0.026 |    -0.014 |\n",
      "| Outstanding universal val... |         16 |      0.012 |          18 |       0.013 |         0.025 |    -0.001 |\n",
      "| States Parties               |         30 |      0.022 |           4 |       0.003 |         0.025 |     0.019 |\n",
      "| Identification               |         11 |      0.008 |          17 |       0.013 |         0.021 |    -0.005 |\n",
      "| Tentative list               |          6 |      0.004 |          21 |       0.016 |         0.02  |    -0.012 |\n",
      "| Cultural heritage            |         20 |      0.015 |           7 |       0.005 |         0.02  |     0.01  |\n",
      "| World Heritage Convention... |         21 |      0.016 |           5 |       0.004 |         0.02  |     0.012 |\n",
      "| Advisory bodies              |          2 |      0.001 |          24 |       0.018 |         0.019 |    -0.017 |\n",
      "| Cultural landscapes          |          8 |      0.006 |          18 |       0.013 |         0.019 |    -0.007 |\n",
      "| Reactive monitoring          |          4 |      0.003 |          20 |       0.015 |         0.018 |    -0.012 |\n",
      "| Balance                      |          0 |      0     |          24 |       0.018 |         0.018 |    -0.018 |\n",
      "| List of World Heritage in... |          9 |      0.007 |          15 |       0.011 |         0.018 |    -0.004 |\n",
      "| Operational Guidelines fo... |          2 |      0.001 |          22 |       0.016 |         0.017 |    -0.015 |\n",
      "| World Heritage Fund          |         10 |      0.007 |          13 |       0.01  |         0.017 |    -0.003 |\n",
      "| Cultural heritage criteri... |          5 |      0.004 |          18 |       0.013 |         0.017 |    -0.009 |\n",
      "| Centre                       |         18 |      0.013 |           5 |       0.004 |         0.017 |     0.009 |\n",
      "| State of conservation        |          6 |      0.004 |          16 |       0.012 |         0.016 |    -0.008 |\n",
      "| Presentation                 |          8 |      0.006 |          13 |       0.01  |         0.016 |    -0.004 |\n",
      "| Preservation                 |         14 |      0.01  |           8 |       0.006 |         0.016 |     0.004 |\n",
      "| Convention concerning the... |          3 |      0.002 |          18 |       0.013 |         0.015 |    -0.011 |\n",
      "| IUCN evaluation              |          5 |      0.004 |          15 |       0.011 |         0.015 |    -0.007 |\n",
      "| Cultural property            |          7 |      0.005 |          12 |       0.009 |         0.014 |    -0.004 |\n",
      "| Justification                |          2 |      0.001 |          18 |       0.013 |         0.014 |    -0.012 |\n",
      "| Transmission                 |          5 |      0.004 |          13 |       0.01  |         0.014 |    -0.006 |\n",
      "| Sites                        |         13 |      0.01  |           6 |       0.004 |         0.014 |     0.006 |\n",
      "| Assistance                   |         13 |      0.01  |           4 |       0.003 |         0.013 |     0.007 |\n",
      "| Training                     |          4 |      0.003 |          14 |       0.01  |         0.013 |    -0.007 |\n",
      "| Systematic monitoring and... |          4 |      0.003 |          13 |       0.01  |         0.013 |    -0.007 |\n",
      "| Natural heritage criteria... |          4 |      0.003 |          14 |       0.01  |         0.013 |    -0.007 |\n",
      "| Natural property             |          9 |      0.007 |           8 |       0.006 |         0.013 |     0.001 |\n",
      "| Management                   |         11 |      0.008 |           7 |       0.005 |         0.013 |     0.003 |\n",
      "| Emergency assistance         |          3 |      0.002 |          13 |       0.01  |         0.012 |    -0.008 |\n",
      "| Promotional activities       |          3 |      0.002 |          13 |       0.01  |         0.012 |    -0.008 |\n",
      "| Bureau                       |         15 |      0.011 |           2 |       0.001 |         0.012 |     0.01  |\n",
      "| Nomination form              |          7 |      0.005 |           9 |       0.007 |         0.012 |    -0.002 |\n",
      "| Groups of urban buildings... |          4 |      0.003 |          12 |       0.009 |         0.012 |    -0.006 |\n",
      "| Inventory of property        |          2 |      0.001 |          15 |       0.011 |         0.012 |    -0.01  |\n",
      "| Technical co-operation       |          2 |      0.001 |          13 |       0.01  |         0.011 |    -0.009 |\n",
      "| Associative cultural land... |          2 |      0.001 |          13 |       0.01  |         0.011 |    -0.009 |\n",
      "| Global Strategy              |          2 |      0.001 |          14 |       0.01  |         0.011 |    -0.009 |\n",
      "| Deferred                     |          1 |      0.001 |          13 |       0.01  |         0.011 |    -0.009 |\n",
      "| Secretariat                  |          5 |      0.004 |          10 |       0.007 |         0.011 |    -0.003 |\n",
      "| Young People's Participat... |          6 |      0.004 |           9 |       0.007 |         0.011 |    -0.003 |\n",
      "| IUCN - The World Conserva... |          1 |      0.001 |          14 |       0.01  |         0.011 |    -0.009 |\n",
      "| Rehabilitation               |          1 |      0.001 |          13 |       0.01  |         0.011 |    -0.009 |\n",
      "| Fund                         |         13 |      0.01  |           2 |       0.001 |         0.011 |     0.009 |\n",
      "| Series                       |          5 |      0.004 |           9 |       0.007 |         0.011 |    -0.003 |\n",
      "| Preparatory assistance       |          3 |      0.002 |          11 |       0.008 |         0.01  |    -0.006 |\n",
      "| World Heritage Bureau        |          8 |      0.006 |           6 |       0.004 |         0.01  |     0.002 |\n",
      "| Mixed site                   |          0 |      0     |          13 |       0.01  |         0.01  |    -0.01  |\n",
      "| Comparative evaluations      |          1 |      0.001 |          12 |       0.009 |         0.01  |    -0.008 |\n",
      "| Organically evolved lands... |          2 |      0.001 |          11 |       0.008 |         0.009 |    -0.007 |\n",
      "| Corrective measures          |          1 |      0.001 |          11 |       0.008 |         0.009 |    -0.007 |\n",
      "| Biogeographic(al) provinc... |          1 |      0.001 |          11 |       0.008 |         0.009 |    -0.007 |\n",
      "| ICOMOS evaluation            |          3 |      0.002 |           9 |       0.007 |         0.009 |    -0.005 |\n",
      "| Natural area                 |          2 |      0.001 |          11 |       0.008 |         0.009 |    -0.007 |\n",
      "| Inhabited historic towns     |          3 |      0.002 |          10 |       0.007 |         0.009 |    -0.005 |\n",
      "| Mixed property               |          1 |      0.001 |          11 |       0.008 |         0.009 |    -0.007 |\n",
      "| Action Plan for the Futur... |          0 |      0     |          12 |       0.009 |         0.009 |    -0.009 |\n",
      "| Movable property             |          1 |      0.001 |          11 |       0.008 |         0.009 |    -0.007 |\n",
      "| Comparative assessments      |          1 |      0.001 |          11 |       0.008 |         0.009 |    -0.007 |\n",
      "| National protection          |          2 |      0.001 |          11 |       0.008 |         0.009 |    -0.007 |\n",
      "| Implementation               |         11 |      0.008 |           1 |       0.001 |         0.009 |     0.007 |\n",
      "| Management plan              |          0 |      0     |          12 |       0.009 |         0.009 |    -0.009 |\n",
      "| Deletion                     |          3 |      0.002 |           9 |       0.007 |         0.009 |    -0.005 |\n",
      "| International protection     |          3 |      0.002 |           8 |       0.006 |         0.008 |    -0.004 |\n",
      "| International Centre for ... |          1 |      0.001 |          10 |       0.007 |         0.008 |    -0.006 |\n",
      "| United Nations Educationa... |          1 |      0.001 |          10 |       0.007 |         0.008 |    -0.006 |\n",
      "| World Conservation Monito... |          1 |      0.001 |           9 |       0.007 |         0.008 |    -0.006 |\n",
      "| Clearly defined landscape... |          4 |      0.003 |           7 |       0.005 |         0.008 |    -0.002 |\n",
      "| Delisting                    |          2 |      0.001 |          10 |       0.007 |         0.008 |    -0.006 |\n",
      "| Harmonization                |          2 |      0.001 |          10 |       0.007 |         0.008 |    -0.006 |\n",
      "| International Council of ... |          2 |      0.001 |           9 |       0.007 |         0.008 |    -0.006 |\n",
      "| World Heritage emblem        |          2 |      0.001 |           9 |       0.007 |         0.008 |    -0.006 |\n",
      "| Serial property              |          3 |      0.002 |           8 |       0.006 |         0.008 |    -0.004 |\n",
      "| World Heritage Youth Foru... |          5 |      0.004 |           5 |       0.004 |         0.008 |     0     |\n",
      "| World Heritage Centre        |         10 |      0.007 |           1 |       0.001 |         0.008 |     0.006 |\n",
      "| Identification number        |          1 |      0.001 |           8 |       0.006 |         0.007 |    -0.005 |\n",
      "| Joint nomination             |          0 |      0     |          10 |       0.007 |         0.007 |    -0.007 |\n",
      "| Buffer zone                  |          0 |      0     |           9 |       0.007 |         0.007 |    -0.007 |\n",
      "| Renomination                 |          0 |      0     |           9 |       0.007 |         0.007 |    -0.007 |\n",
      "| Thematic studies             |          0 |      0     |           9 |       0.007 |         0.007 |    -0.007 |\n",
      "| Youth Forum                  |          5 |      0.004 |           4 |       0.003 |         0.007 |     0.001 |\n",
      "| Data sheets                  |          1 |      0.001 |           7 |       0.005 |         0.006 |    -0.004 |\n",
      "| CNPPA                        |          2 |      0.001 |           7 |       0.005 |         0.006 |    -0.004 |\n",
      "| Safeguarding                 |          3 |      0.002 |           6 |       0.004 |         0.006 |    -0.002 |\n",
      "| Spirit of the Convention     |          1 |      0.001 |           7 |       0.005 |         0.006 |    -0.004 |\n",
      "| Indicative list              |          1 |      0.001 |           7 |       0.005 |         0.006 |    -0.004 |\n",
      "| Organization of World Her... |          1 |      0.001 |           7 |       0.005 |         0.006 |    -0.004 |\n",
      "| Inscription                  |          4 |      0.003 |           4 |       0.003 |         0.006 |     0     |\n",
      "| Rules of Procedure           |          0 |      0     |           7 |       0.005 |         0.005 |    -0.005 |\n",
      "| Rome Centre                  |          2 |      0.001 |           5 |       0.004 |         0.005 |    -0.003 |\n",
      "| World Conservation Union     |          6 |      0.004 |           1 |       0.001 |         0.005 |     0.003 |\n",
      "| Immovable property           |          1 |      0.001 |           5 |       0.004 |         0.005 |    -0.003 |\n",
      "| Monuments                    |          4 |      0.003 |           3 |       0.002 |         0.005 |     0.001 |\n",
      "| Natural sites                |          1 |      0.001 |           5 |       0.004 |         0.005 |    -0.003 |\n",
      "| Timetable                    |          2 |      0.001 |           5 |       0.004 |         0.005 |    -0.003 |\n",
      "| Towns                        |          4 |      0.003 |           3 |       0.002 |         0.005 |     0.001 |\n",
      "| World Heritage Education     |          2 |      0.001 |           5 |       0.004 |         0.005 |    -0.003 |\n",
      "| UNESCO World Heritage Cen... |          5 |      0.004 |           1 |       0.001 |         0.005 |     0.003 |\n",
      "| Conditions of authenticit... |          4 |      0.003 |           1 |       0.001 |         0.004 |     0.002 |\n",
      "| Test of authenticity         |          4 |      0.003 |           1 |       0.001 |         0.004 |     0.002 |\n",
      "| Convention for the protec... |          0 |      0     |           5 |       0.004 |         0.004 |    -0.004 |\n",
      "| Geological and physiograp... |          1 |      0.001 |           4 |       0.003 |         0.004 |    -0.002 |\n",
      "| Natural features             |          2 |      0.001 |           4 |       0.003 |         0.004 |    -0.002 |\n",
      "| Historic towns               |          3 |      0.002 |           3 |       0.002 |         0.004 |     0     |\n",
      "| World Heritage Youth Proj... |          0 |      0     |           5 |       0.004 |         0.004 |    -0.004 |\n",
      "| Youth Project                |          0 |      0     |           5 |       0.004 |         0.004 |    -0.004 |\n",
      "| Reporting                    |          4 |      0.003 |           2 |       0.001 |         0.004 |     0.002 |\n",
      "| Information sources          |          1 |      0.001 |           3 |       0.002 |         0.003 |    -0.001 |\n",
      "| Nara Document on Authenti... |          3 |      0.002 |           1 |       0.001 |         0.003 |     0.001 |\n",
      "| Referral                     |          0 |      0     |           4 |       0.003 |         0.003 |    -0.003 |\n",
      "| Canal                        |          1 |      0.001 |           3 |       0.002 |         0.003 |    -0.001 |\n",
      "| Groups of buildings          |          1 |      0.001 |           3 |       0.002 |         0.003 |    -0.001 |\n",
      "| Precisely delineated [nat... |          0 |      0     |           4 |       0.003 |         0.003 |    -0.003 |\n",
      "| Heritage route               |          3 |      0.002 |           2 |       0.001 |         0.003 |     0.001 |\n",
      "| Technical evaluations        |          1 |      0.001 |           3 |       0.002 |         0.003 |    -0.001 |\n",
      "| Authorization form           |          0 |      0     |           4 |       0.003 |         0.003 |    -0.003 |\n",
      "| Nara Conference on Authen... |          1 |      0.001 |           1 |       0.001 |         0.002 |     0     |\n",
      "| Commission on National Pa... |          2 |      0.001 |           1 |       0.001 |         0.002 |     0     |\n",
      "| Intergovernmental Committ... |          0 |      0     |           3 |       0.002 |         0.002 |    -0.002 |\n",
      "| International Union for t... |          1 |      0.001 |           2 |       0.001 |         0.002 |     0     |\n",
      "| General Assembly of State... |          0 |      0     |           3 |       0.002 |         0.002 |    -0.002 |\n",
      "| Criterion                    |          1 |      0.001 |           1 |       0.001 |         0.002 |     0     |\n",
      "| Emblem                       |          2 |      0.001 |           2 |       0.001 |         0.002 |     0     |\n",
      "| World Heritage logo          |          0 |      0     |           3 |       0.002 |         0.002 |    -0.002 |\n",
      "| Fossil landscape             |          3 |      0.002 |           0 |       0     |         0.002 |     0.002 |\n",
      "| Fund for the Protection o... |          0 |      0     |           3 |       0.002 |         0.002 |    -0.002 |\n",
      "| Routes                       |          1 |      0.001 |           1 |       0.001 |         0.002 |     0     |\n",
      "| ID No                        |          1 |      0.001 |           2 |       0.001 |         0.002 |     0     |\n",
      "| OWHC                         |          1 |      0.001 |           2 |       0.001 |         0.002 |     0     |\n",
      "| World Heritage value         |          1 |      0.001 |           1 |       0.001 |         0.002 |     0     |\n",
      "| Serial nomination            |          0 |      0     |           3 |       0.002 |         0.002 |    -0.002 |\n",
      "| Serial site                  |          0 |      0     |           3 |       0.002 |         0.002 |    -0.002 |\n",
      "| Designed landscape           |          0 |      0     |           1 |       0.001 |         0.001 |    -0.001 |\n",
      "| Deferral                     |          0 |      0     |           1 |       0.001 |         0.001 |    -0.001 |\n",
      "| Global Strategy for the I... |          0 |      0     |           1 |       0.001 |         0.001 |    -0.001 |\n",
      "| Itineraries                  |          0 |      0     |           1 |       0.001 |         0.001 |    -0.001 |\n",
      "| International Centre for ... |          2 |      0.001 |           0 |       0     |         0.001 |     0.001 |\n"
     ]
    }
   ],
   "source": [
    "il.show_internal_dependency_stats(internal_dependency_stats, 5) # 4 orders by Total Share, 5 by Balance"
   ]
  },
  {
   "cell_type": "code",
   "execution_count": 13,
   "metadata": {},
   "outputs": [],
   "source": [
    "# del T\n",
    "import networkx as nx\n",
    "T = nx.dfs_tree(internal_dependency_network,'Itineraries')"
   ]
  },
  {
   "cell_type": "code",
   "execution_count": 14,
   "metadata": {},
   "outputs": [
    {
     "name": "stdout",
     "output_type": "stream",
     "text": [
      "('Itineraries', 'Heritage route')\n",
      "('Heritage route', 'Cultural heritage')\n",
      "('Heritage route', 'Routes')\n",
      "('Cultural heritage', 'Convention')\n",
      "('Cultural heritage', 'Groups of buildings')\n",
      "('Convention', 'Convention concerning the protection of the world cultural and natural heritage')\n",
      "('Convention concerning the protection of the world cultural and natural heritage', 'Assistance')\n",
      "('Assistance', 'Emergency assistance')\n",
      "('Emergency assistance', 'Centre')\n",
      "('Centre', 'Secretariat')\n",
      "('Secretariat', 'Bureau')\n",
      "('Bureau', 'World Heritage')\n",
      "('World Heritage', 'Guidelines')\n",
      "('Guidelines', 'Implementation')\n",
      "('Guidelines', 'Operational Guidelines')\n",
      "('Operational Guidelines', 'Operational Guidelines for the Implementation of the World Heritage Convention')\n",
      "('Operational Guidelines for the Implementation of the World Heritage Convention', 'Committee')\n",
      "('Committee', 'World Heritage Committee')\n",
      "('World Heritage Committee', 'Conservation')\n",
      "('Conservation', 'Authenticity')\n",
      "('Authenticity', 'Conditions of authenticity')\n",
      "('Authenticity', 'Criteria')\n",
      "('Authenticity', 'Cultural landscapes')\n",
      "('Authenticity', 'Groups of urban buildings')\n",
      "('Authenticity', 'Information sources')\n",
      "('Authenticity', 'Justification')\n",
      "('Authenticity', 'Nara Conference on Authenticity in Relation to the World Heritage Convention')\n",
      "('Criteria', 'Cultural heritage criteria')\n",
      "('Cultural heritage criteria', 'Cultural property')\n",
      "('Cultural property', 'List')\n",
      "('Cultural property', 'Mixed property')\n",
      "('Cultural property', 'Test of authenticity')\n",
      "('List', 'List of World Heritage in Danger')\n",
      "('List of World Heritage in Danger', 'Deletion')\n",
      "('Deletion', 'Delisting')\n",
      "('Delisting', 'Corrective measures')\n",
      "('Corrective measures', 'Integrity')\n",
      "('Integrity', 'Criterion')\n",
      "('Integrity', 'Evaluation')\n",
      "('Evaluation', 'ICOMOS evaluation')\n",
      "('Evaluation', 'Technical evaluations')\n",
      "('Evaluation', 'Timetable')\n",
      "('ICOMOS evaluation', 'IUCN evaluation')\n",
      "('IUCN evaluation', 'CNPPA')\n",
      "('IUCN evaluation', 'Data sheets')\n",
      "('CNPPA', 'Commission on National Parks and Protected Areas')\n",
      "('CNPPA', 'IUCN - The World Conservation Union')\n",
      "('IUCN - The World Conservation Union', 'Natural')\n",
      "('IUCN - The World Conservation Union', 'State of conservation')\n",
      "('Natural', 'Natural area')\n",
      "('Natural area', 'Management')\n",
      "('Management', 'Property')\n",
      "('Property', 'Natural heritage')\n",
      "('Natural heritage', 'Geological and physiographical formations')\n",
      "('Natural heritage', 'Natural features')\n",
      "('Natural heritage', 'Natural sites')\n",
      "('Geological and physiographical formations', 'UNESCO')\n",
      "('UNESCO', 'United Nations Educational, Scientific and Cultural Organization')\n",
      "('United Nations Educational, Scientific and Cultural Organization', 'Fund')\n",
      "('Fund', 'World Heritage Fund')\n",
      "('World Heritage Fund', 'International assistance')\n",
      "('International assistance', 'Natural property')\n",
      "('International assistance', 'Preparatory assistance')\n",
      "('International assistance', 'Promotional activities')\n",
      "('International assistance', 'Rehabilitation')\n",
      "('International assistance', 'Technical co-operation')\n",
      "('International assistance', 'Training')\n",
      "('Natural property', 'Natural heritage criteria')\n",
      "('Natural heritage criteria', 'World Heritage List')\n",
      "('World Heritage List', 'Outstanding universal value')\n",
      "('Outstanding universal value', 'Nomination')\n",
      "('Outstanding universal value', 'Sites')\n",
      "('Outstanding universal value', 'World Heritage Bureau')\n",
      "('Outstanding universal value', 'World Heritage value')\n",
      "('Nomination', 'Nomination form')\n",
      "('Nomination form', 'States Parties')\n",
      "('Nomination form', 'UNESCO World Heritage Centre')\n",
      "('Nomination form', 'World Heritage Centre')\n",
      "('States Parties', 'World Heritage Convention')\n",
      "('World Heritage Convention', 'Protection')\n",
      "('Protection', 'Identification')\n",
      "('Protection', 'International protection')\n",
      "('Protection', 'Preservation')\n",
      "('Identification', 'Presentation')\n",
      "('Presentation', 'Transmission')\n",
      "('International protection', 'National protection')\n",
      "('Preservation', 'Safeguarding')\n",
      "('Promotional activities', \"Young People's Participation in World Heritage Preservation and Promotion\")\n",
      "(\"Young People's Participation in World Heritage Preservation and Promotion\", 'World Heritage Education')\n",
      "('World Heritage Education', 'World Heritage Youth Forum/Fora')\n",
      "('World Heritage Youth Forum/Fora', 'Youth Forum')\n",
      "('State of conservation', 'Advisory bodies')\n",
      "('State of conservation', 'Reactive monitoring')\n",
      "('Advisory bodies', 'International Centre for the Study of the Preservation and Restoration of Cultural Property (Rome Centre')\n",
      "('Advisory bodies', 'International Council of Monuments and Sites')\n",
      "('Advisory bodies', 'International Union for the Conservation of Nature and Natural Resources')\n",
      "('Advisory bodies', 'Monuments')\n",
      "('International Centre for the Study of the Preservation and Restoration of Cultural Property (Rome Centre', 'Rome Centre')\n",
      "('Rome Centre', 'International Centre for the Study of the Preservation and Restoration of Cultural Property')\n",
      "('International Council of Monuments and Sites', 'Inscription')\n",
      "('International Union for the Conservation of Nature and Natural Resources', 'World Conservation Union')\n",
      "('Reactive monitoring', 'Reporting')\n",
      "('Reporting', 'Systematic monitoring and reporting')\n",
      "('Data sheets', 'World Conservation Monitoring Centre')\n",
      "('Cultural landscapes', 'Associative cultural landscape')\n",
      "('Cultural landscapes', 'Canal')\n",
      "('Associative cultural landscape', 'Clearly defined landscape')\n",
      "('Associative cultural landscape', 'Fossil landscape')\n",
      "('Associative cultural landscape', 'Organically evolved landscape')\n",
      "('Groups of urban buildings', 'Historic towns')\n",
      "('Historic towns', 'Inhabited historic towns')\n",
      "('Inhabited historic towns', 'Towns')\n",
      "('Information sources', 'Nara Document on Authenticity')\n"
     ]
    }
   ],
   "source": [
    "for i in T.edges(): print(i)"
   ]
  },
  {
   "cell_type": "code",
   "execution_count": 15,
   "metadata": {},
   "outputs": [],
   "source": [
    "x = nx.dfs_successors(internal_dependency_network, 'Itineraries')"
   ]
  },
  {
   "cell_type": "code",
   "execution_count": 16,
   "metadata": {},
   "outputs": [
    {
     "name": "stdout",
     "output_type": "stream",
     "text": [
      "Itineraries Heritage route\n",
      "Heritage route Cultural heritage\n",
      "Heritage route Routes\n",
      "Cultural heritage Convention\n",
      "Cultural heritage Groups of buildings\n",
      "Convention Convention concerning the protection of the world cultural and natural heritage\n",
      "Convention concerning the protection of the world cultural and natural heritage Assistance\n",
      "Assistance Emergency assistance\n",
      "Emergency assistance Centre\n",
      "Centre Secretariat\n",
      "Secretariat Bureau\n",
      "Bureau World Heritage\n",
      "World Heritage Guidelines\n",
      "Guidelines Implementation\n",
      "Guidelines Operational Guidelines\n",
      "Operational Guidelines Operational Guidelines for the Implementation of the World Heritage Convention\n",
      "Operational Guidelines for the Implementation of the World Heritage Convention Committee\n",
      "Committee World Heritage Committee\n",
      "World Heritage Committee Conservation\n",
      "Conservation Authenticity\n",
      "Authenticity Conditions of authenticity\n",
      "Authenticity Criteria\n",
      "Authenticity Cultural landscapes\n",
      "Authenticity Groups of urban buildings\n",
      "Authenticity Information sources\n",
      "Authenticity Justification\n",
      "Authenticity Nara Conference on Authenticity in Relation to the World Heritage Convention\n",
      "Criteria Cultural heritage criteria\n",
      "Cultural heritage criteria Cultural property\n",
      "Cultural property List\n",
      "Cultural property Mixed property\n",
      "Cultural property Test of authenticity\n",
      "List List of World Heritage in Danger\n",
      "List of World Heritage in Danger Deletion\n",
      "Deletion Delisting\n",
      "Delisting Corrective measures\n",
      "Corrective measures Integrity\n",
      "Integrity Criterion\n",
      "Integrity Evaluation\n",
      "Evaluation ICOMOS evaluation\n",
      "Evaluation Technical evaluations\n",
      "Evaluation Timetable\n",
      "ICOMOS evaluation IUCN evaluation\n",
      "IUCN evaluation CNPPA\n",
      "IUCN evaluation Data sheets\n",
      "CNPPA Commission on National Parks and Protected Areas\n",
      "CNPPA IUCN - The World Conservation Union\n",
      "IUCN - The World Conservation Union Natural\n",
      "IUCN - The World Conservation Union State of conservation\n",
      "Natural Natural area\n",
      "Natural area Management\n",
      "Management Property\n",
      "Property Natural heritage\n",
      "Natural heritage Geological and physiographical formations\n",
      "Natural heritage Natural features\n",
      "Natural heritage Natural sites\n",
      "Geological and physiographical formations UNESCO\n",
      "UNESCO United Nations Educational, Scientific and Cultural Organization\n",
      "United Nations Educational, Scientific and Cultural Organization Fund\n",
      "Fund World Heritage Fund\n",
      "World Heritage Fund International assistance\n",
      "International assistance Natural property\n",
      "International assistance Preparatory assistance\n",
      "International assistance Promotional activities\n",
      "International assistance Rehabilitation\n",
      "International assistance Technical co-operation\n",
      "International assistance Training\n",
      "Natural property Natural heritage criteria\n",
      "Natural heritage criteria World Heritage List\n",
      "World Heritage List Outstanding universal value\n",
      "Outstanding universal value Nomination\n",
      "Outstanding universal value Sites\n",
      "Outstanding universal value World Heritage Bureau\n",
      "Outstanding universal value World Heritage value\n",
      "Nomination Nomination form\n",
      "Nomination form States Parties\n",
      "Nomination form UNESCO World Heritage Centre\n",
      "Nomination form World Heritage Centre\n",
      "States Parties World Heritage Convention\n",
      "World Heritage Convention Protection\n",
      "Protection Identification\n",
      "Protection International protection\n",
      "Protection Preservation\n",
      "Identification Presentation\n",
      "Presentation Transmission\n",
      "International protection National protection\n",
      "Preservation Safeguarding\n",
      "Promotional activities Young People's Participation in World Heritage Preservation and Promotion\n",
      "Young People's Participation in World Heritage Preservation and Promotion World Heritage Education\n",
      "World Heritage Education World Heritage Youth Forum/Fora\n",
      "World Heritage Youth Forum/Fora Youth Forum\n",
      "State of conservation Advisory bodies\n",
      "State of conservation Reactive monitoring\n",
      "Advisory bodies International Centre for the Study of the Preservation and Restoration of Cultural Property (Rome Centre\n",
      "Advisory bodies International Council of Monuments and Sites\n",
      "Advisory bodies International Union for the Conservation of Nature and Natural Resources\n",
      "Advisory bodies Monuments\n",
      "International Centre for the Study of the Preservation and Restoration of Cultural Property (Rome Centre Rome Centre\n",
      "Rome Centre International Centre for the Study of the Preservation and Restoration of Cultural Property\n",
      "International Council of Monuments and Sites Inscription\n",
      "International Union for the Conservation of Nature and Natural Resources World Conservation Union\n",
      "Reactive monitoring Reporting\n",
      "Reporting Systematic monitoring and reporting\n",
      "Data sheets World Conservation Monitoring Centre\n",
      "Cultural landscapes Associative cultural landscape\n",
      "Cultural landscapes Canal\n",
      "Associative cultural landscape Clearly defined landscape\n",
      "Associative cultural landscape Fossil landscape\n",
      "Associative cultural landscape Organically evolved landscape\n",
      "Groups of urban buildings Historic towns\n",
      "Historic towns Inhabited historic towns\n",
      "Inhabited historic towns Towns\n",
      "Information sources Nara Document on Authenticity\n"
     ]
    }
   ],
   "source": [
    "for i in x:\n",
    "    for j in x[i]: print(i, j)"
   ]
  },
  {
   "cell_type": "code",
   "execution_count": 18,
   "metadata": {},
   "outputs": [],
   "source": [
    "# p = nx.all_simple_paths(internal_dependency_network, source='World Heritage', target='UNESCO')"
   ]
  },
  {
   "cell_type": "code",
   "execution_count": null,
   "metadata": {},
   "outputs": [],
   "source": [
    "len(p)"
   ]
  },
  {
   "cell_type": "code",
   "execution_count": null,
   "metadata": {},
   "outputs": [],
   "source": []
  },
  {
   "cell_type": "code",
   "execution_count": null,
   "metadata": {},
   "outputs": [],
   "source": []
  },
  {
   "cell_type": "code",
   "execution_count": null,
   "metadata": {},
   "outputs": [],
   "source": []
  },
  {
   "cell_type": "code",
   "execution_count": 61,
   "metadata": {},
   "outputs": [
    {
     "data": {
      "text/plain": [
       "115"
      ]
     },
     "execution_count": 61,
     "metadata": {},
     "output_type": "execute_result"
    }
   ],
   "source": [
    "len(T.nodes())"
   ]
  },
  {
   "cell_type": "code",
   "execution_count": 15,
   "metadata": {},
   "outputs": [],
   "source": [
    "import networkx as nx"
   ]
  },
  {
   "cell_type": "code",
   "execution_count": 16,
   "metadata": {},
   "outputs": [],
   "source": [
    "dpn = nx.MultiDiGraph()"
   ]
  },
  {
   "cell_type": "code",
   "execution_count": 20,
   "metadata": {},
   "outputs": [],
   "source": [
    "for i in x_dependency_relationships:\n",
    "    dpn.add_edge(x_dependency_relationships[i]['definiendum'], x_dependency_relationships[i]['depends_on'])"
   ]
  },
  {
   "cell_type": "code",
   "execution_count": 21,
   "metadata": {},
   "outputs": [],
   "source": [
    "# Draw the dependency network.\n",
    "node_positions = il.pos_by_in_degrees(dpn)\n",
    "node_label_positions = il.offset_node_labels(node_positions, 1, 1)\n",
    "node_colors = il.make_color_list(len(dpn.nodes()))\n",
    "edge_label_content = dict()\n",
    "for e in dpn.edges(): edge_label_content[e] = 'depends_on'\n",
    "colored_nodes = il.color_nodes(dpn, node_colors, '#FFFFFF')\n",
    "colored_edges = il.color_edge_by_target_node(dpn, colored_nodes)\n",
    "node_label_content = il.format_node_labels(dpn, x_dependency_data, 'definiendum', 30, 55)\n",
    "# figure = il.draw_rel_net(graph = dpn, node_positions= node_positions, node_labels = node_label_content, node_label_positions = node_label_positions, node_colors = colored_nodes, edge_labels = edge_label_content, edge_colors = colored_edges, fig_w = 30, fig_h = 60, dpi_val = 60, fig_margin = 0.15, save_to_project_dir = True, image_description = 'dependency_network')"
   ]
  },
  {
   "cell_type": "code",
   "execution_count": 22,
   "metadata": {},
   "outputs": [
    {
     "ename": "NameError",
     "evalue": "name 'key' is not defined",
     "output_type": "error",
     "traceback": [
      "\u001b[0;31m---------------------------------------------------------------------------\u001b[0m",
      "\u001b[0;31mNameError\u001b[0m                                 Traceback (most recent call last)",
      "\u001b[0;32m<ipython-input-22-cb892a32cc4a>\u001b[0m in \u001b[0;36m<module>\u001b[0;34m()\u001b[0m\n\u001b[1;32m      1\u001b[0m \u001b[0;31m# In-degree counts.\u001b[0m\u001b[0;34m\u001b[0m\u001b[0;34m\u001b[0m\u001b[0m\n\u001b[1;32m      2\u001b[0m \u001b[0min_degree_list\u001b[0m \u001b[0;34m=\u001b[0m \u001b[0mlist\u001b[0m\u001b[0;34m(\u001b[0m\u001b[0mdpn\u001b[0m\u001b[0;34m.\u001b[0m\u001b[0min_degree\u001b[0m\u001b[0;34m(\u001b[0m\u001b[0;34m)\u001b[0m\u001b[0;34m)\u001b[0m\u001b[0;34m\u001b[0m\u001b[0m\n\u001b[0;32m----> 3\u001b[0;31m \u001b[0min_degree_list\u001b[0m\u001b[0;34m.\u001b[0m\u001b[0msort\u001b[0m\u001b[0;34m(\u001b[0m\u001b[0mkey\u001b[0m\u001b[0;34m)\u001b[0m\u001b[0;34m\u001b[0m\u001b[0m\n\u001b[0m",
      "\u001b[0;31mNameError\u001b[0m: name 'key' is not defined"
     ]
    }
   ],
   "source": [
    "# In-degree counts.\n",
    "in_degree_list = list(dpn.in_degree())\n",
    "in_degree_list.sort(key)"
   ]
  }
 ],
 "metadata": {
  "kernelspec": {
   "display_name": "Python 3",
   "language": "python",
   "name": "python3"
  },
  "language_info": {
   "codemirror_mode": {
    "name": "ipython",
    "version": 3
   },
   "file_extension": ".py",
   "mimetype": "text/x-python",
   "name": "python",
   "nbconvert_exporter": "python",
   "pygments_lexer": "ipython3",
   "version": "3.6.5"
  }
 },
 "nbformat": 4,
 "nbformat_minor": 2
}
