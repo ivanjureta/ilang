{
 "cells": [
  {
   "cell_type": "code",
   "execution_count": 1,
   "metadata": {},
   "outputs": [],
   "source": [
    "import ilang_fs as il"
   ]
  },
  {
   "cell_type": "code",
   "execution_count": 2,
   "metadata": {},
   "outputs": [],
   "source": [
    "il.setup_project('SRN', True)"
   ]
  },
  {
   "cell_type": "code",
   "execution_count": 3,
   "metadata": {},
   "outputs": [],
   "source": [
    "data = il.raw_data_from_CSV('raw_data/ilang_SRN_data.csv', ',')"
   ]
  },
  {
   "cell_type": "code",
   "execution_count": 4,
   "metadata": {},
   "outputs": [],
   "source": [
    "structured_data = il.structure_raw_data(data)"
   ]
  },
  {
   "cell_type": "code",
   "execution_count": 5,
   "metadata": {},
   "outputs": [],
   "source": [
    "definition_network = il.make_rel_net(structured_data, 'Definiens', 'Definiendum')"
   ]
  },
  {
   "cell_type": "code",
   "execution_count": 6,
   "metadata": {},
   "outputs": [],
   "source": [
    "# Print data to text files.\n",
    "il.print_to_txt(data, 'SRN', 'data', save_to_project_dir = True)\n",
    "il.print_to_txt(structured_data, 'SRN', 'structured_data', save_to_project_dir = True)\n",
    "il.print_to_txt(definition_network.nodes(), 'SRN', 'definition_network_nodes', save_to_project_dir = True)\n",
    "il.print_to_txt(definition_network.edges(), 'SRN', 'definition_network_edges', save_to_project_dir = True)"
   ]
  },
  {
   "cell_type": "code",
   "execution_count": 7,
   "metadata": {},
   "outputs": [],
   "source": [
    "# Plot the Definition Network.\n",
    "node_positions = il.pos_by_in_degrees(definition_network)\n",
    "node_label_positions = il.offset_node_labels(node_positions, 0, 5)\n",
    "node_label_content = il.format_node_labels(definition_network, structured_data, 'full_name', 30, 55)\n",
    "colors = il.make_color_list(1)\n",
    "colored_nodes = il.color_nodes(definition_network, colors, '#FFFFFF')\n",
    "colored_edges = il.color_edge_by_target_node(definition_network, colored_nodes)\n",
    "edge_label_content = dict()\n",
    "for e in definition_network.edges(): edge_label_content[e] = 'defines'\n",
    "# Plot low-res figure\n",
    "figure = il.draw_rel_net(graph = definition_network, node_positions = node_positions, node_labels = node_label_content, node_label_positions = node_label_positions, node_colors = colored_nodes, edge_labels = edge_label_content, edge_colors = colored_edges, fig_w = 10, fig_h = 10, dpi_val = 90, fig_margin = 0.15, save_to_project_dir = True, image_description = 'definition_network')\n",
    "# Plot hi-def figure.\n",
    "figure = il.draw_rel_net(graph = definition_network, node_positions = node_positions, node_labels = node_label_content, node_label_positions = node_label_positions, node_colors = colored_nodes, edge_labels = edge_label_content, edge_colors = colored_edges, fig_w = 10, fig_h = 10, dpi_val = 300, fig_margin = 0.15, save_to_project_dir = True, image_description = 'definition_network')"
   ]
  }
 ],
 "metadata": {
  "kernelspec": {
   "display_name": "Python 3",
   "language": "python",
   "name": "python3"
  },
  "language_info": {
   "codemirror_mode": {
    "name": "ipython",
    "version": 3
   },
   "file_extension": ".py",
   "mimetype": "text/x-python",
   "name": "python",
   "nbconvert_exporter": "python",
   "pygments_lexer": "ipython3",
   "version": "3.6.5"
  }
 },
 "nbformat": 4,
 "nbformat_minor": 2
}
