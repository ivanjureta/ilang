{
 "cells": [
  {
   "cell_type": "code",
   "execution_count": 1,
   "metadata": {},
   "outputs": [],
   "source": [
    "# Use Python 3.6, networkx 1.11\n",
    "# Necessary...\n",
    "import csv # to read CSV file\n",
    "import networkx as nx # to make and analyze networks/graphs\n",
    "import unicodedata # to compare strings while ignoring case\n",
    "import matplotlib.pyplot as plt # to draw figures\n",
    "from matplotlib.pyplot import figure # to draw figures\n",
    "from tabulate import tabulate # to display markdown-compatible tables\n",
    "import operator # to make sorting easier, using .itemgetter\n",
    "import copy # to make deep copies of lists and such\n",
    "from copy import deepcopy\n",
    "\n",
    "# Function to ignore case, when searching for occurrences of definiendum and short definiendum in definiens.\n",
    "def normalize_caseless(text):\n",
    "    return unicodedata.normalize(\"NFKD\", text.casefold())"
   ]
  },
  {
   "cell_type": "code",
   "execution_count": 2,
   "metadata": {},
   "outputs": [],
   "source": [
    "# Set the name of the project, to use as prefix on names of all output files.\n",
    "## Project: UN Glossary of World Heritage Terms\n",
    "# analysis_project_name = \"UN_GWHT_TDN\" \n",
    "# analysis_project_data_file = \"ilang_UN_GWHT_terminology_raw - Sheet1.csv\"\n",
    "## Project: Smart Retail Network\n",
    "analysis_project_name = \"SRN_DN\" \n",
    "analysis_project_data_file = \"raw_data/ilang_SRN_data.csv\""
   ]
  },
  {
   "cell_type": "code",
   "execution_count": 3,
   "metadata": {},
   "outputs": [],
   "source": [
    "# Get raw definitions from a CSV file\n",
    "# Create empty raw_definitions, to hold definiendum, short definiendum (abbreviation of definiens), and definiens.\n",
    "raw_definitions = []\n",
    "# Fill raw_definitions as a list of triples, where a triple includes the definiendum, short definiendum, and definiens.\n",
    "with open(analysis_project_data_file) as raw_definitions_file:\n",
    "    raw_definitions_csv = csv.reader(raw_definitions_file, delimiter = ',')\n",
    "    for row in raw_definitions_csv:\n",
    "        raw_definitions.append({'definiendum':row[0], 'short definiendum':row[1], 'definiens':row[2]})"
   ]
  },
  {
   "cell_type": "code",
   "execution_count": 4,
   "metadata": {},
   "outputs": [],
   "source": [
    "# Remove the column title row from raw_definitions.\n",
    "raw_defs = [(raw_definitions[i]) for i in range(1,len(raw_definitions))]"
   ]
  },
  {
   "cell_type": "code",
   "execution_count": 74,
   "metadata": {},
   "outputs": [],
   "source": [
    "### Definition Network\n",
    "\n",
    "# Make an empty Definition Network.\n",
    "dn = nx.DiGraph()\n",
    "\n",
    "## Populate Definition Network with nodes.\n",
    "\n",
    "# Make a random 6-item alphanumeric string, to use in node identifiers.\n",
    "import random\n",
    "import string\n",
    "def id_generator(size=6, chars=string.ascii_uppercase + string.digits):\n",
    "    return ''.join(random.choice(chars) for _ in range(size))\n",
    "\n",
    "# Checks if node_id is unique among node_id values which are already in a network.\n",
    "def is_unique_node_id(network, node_identifier):\n",
    "    j = 0\n",
    "    for i in network.nodes():\n",
    "        if node_identifier == i: j = j + 1\n",
    "    return j\n",
    "\n",
    "# Make 2*len(raw_defs)+2 nodes, give each a unique node_id (unique in the given network only).\n",
    "# node_id has format node_[random 8 characters].\n",
    "for i in range(0, 2*len(raw_defs)+2):\n",
    "    node_id = 'node_' + id_generator()\n",
    "    if is_unique_node_id(dn, node_id) == 0:\n",
    "        dn.add_node(node_id)"
   ]
  },
  {
   "cell_type": "code",
   "execution_count": 75,
   "metadata": {},
   "outputs": [],
   "source": [
    "## Label all Definition Network nodes.\n",
    "# Put definientia, definienda, Definiendum, and Definiens node labels in a list.\n",
    "node_content_list = list()\n",
    "[ node_content_list.append(raw_defs[i][j]) for j in { 'definiendum', 'definiens' } for i in range(0, len(raw_defs))]\n",
    "node_content_list.append('Definiendum')\n",
    "node_content_list.append('Definiens')\n",
    "\n",
    "# Make a dictionary of (node_id, node content value) pairs.\n",
    "node_content_dict = dict()\n",
    "for i in range(0, len(dn.nodes())):\n",
    "    node_content_dict[list(dn.nodes())[i]] = node_content_list[i]\n",
    "\n",
    "# Set node 'content' attribute using node_content_dict.\n",
    "nx.set_node_attributes(dn, name = 'content', values = node_content_dict)"
   ]
  },
  {
   "cell_type": "code",
   "execution_count": 76,
   "metadata": {},
   "outputs": [
    {
     "name": "stdout",
     "output_type": "stream",
     "text": [
      "{'node_67D51X': 'SRN', 'node_UQQBR8': 'SDM', 'node_WYGUK7': 'Shop Display', 'node_6FQK4Q': 'Basic Shop Display', 'node_SLF39T': 'Complex Shop Display', 'node_M03577': 'Shop Display Identifier', 'node_XNNKVT': 'Shop Display Supplier', 'node_GTZ6Y8': 'Point of Purchase', 'node_5OIKMI': 'Field Merchandiser', 'node_5N37IU': 'POP Personnel', 'node_BO6B2X': 'Key Account', 'node_IB9Y9S': 'POP Data', 'node_0FCS5Y': 'Report', 'node_KP5PHT': 'Analyst', 'node_R5FFF2': 'Administrator', 'node_3G4LNZ': 'Smart Retail Network software.', 'node_KDMBS8': 'Shop Display Management software.', 'node_RB0D0B': 'Object installed at a POP, which is used to promote products; Shop Display is synonym with Fixture.', 'node_SC41W2': 'A Shop Display which cannot itself be subdivided.', 'node_EAMVAA': 'A Shop Display made from two or more Basic Shop Displays.', 'node_5LJ8YY': 'Unique numeric identifier generated by SDM for each BSD, used to identify a BSD when a QR code scanner is not available.', 'node_01J0Q2': 'Representative of the company supplying Shop Displays.', 'node_FXEWTP': 'Location (shop) where products are being sold.', 'node_RZCX3F': 'An individual visiting a POP and collecting data about the POP; an FMR typically gets a list of POP to visit, and upon visiting collects data about products being sold at POP, the characteristics of a POP, and any other data of use.', 'node_W1PJKK': 'An individual employed at a POP and involved in the selling of, and/or presentation of Samsung products to customers.', 'node_6V1CI0': 'An individual supervising one or more FMR.', 'node_DS2LA9': 'Data (text, measurements, images) collected at a POP by an FMR.', 'node_0FELFC': 'A table, chart, or Excel or PowerPoint presentation file generated by SRN or SDM to facilitate the understanding of POP data.', 'node_QRH7GK': 'Employee interested in analyzing the data stored in SRN.', 'node_7E419H': 'Employee interested in changing the settings and/or performing maintenance of SRN.', 'node_VZILJP': 'Definiendum', 'node_G5LY9N': 'Definiens'}\n"
     ]
    }
   ],
   "source": [
    "print(nx.get_node_attributes(dn, 'content'))"
   ]
  },
  {
   "cell_type": "code",
   "execution_count": 77,
   "metadata": {},
   "outputs": [],
   "source": [
    "# Given a network, an attribute, and a value of attribute, returns node_id of the node which carriers that has that value of the given attribute.\n",
    "def attribute_value_node_id(network, attribute, value):\n",
    "    result = None\n",
    "    for i in nx.get_node_attributes(network, attribute):\n",
    "        if nx.get_node_attributes(network, attribute)[i] == value: result = i\n",
    "    if result == None: return 'No node for that attribute value'\n",
    "    else: return result"
   ]
  },
  {
   "cell_type": "code",
   "execution_count": 78,
   "metadata": {},
   "outputs": [],
   "source": [
    "## Populate network with Is-a relationship edges.\n",
    "for i in dn.nodes():\n",
    "    for j in range(0, len(raw_defs)):\n",
    "        if raw_defs[j]['definiens'] == nx.get_node_attributes(dn, 'content')[i]:\n",
    "            dn.add_edge(i, attribute_value_node_id(dn, 'content', 'Definiens'), relationship = 'Is-a')\n",
    "        if raw_defs[j]['definiendum'] == nx.get_node_attributes(dn, 'content')[i]:\n",
    "            dn.add_edge(i, attribute_value_node_id(dn, 'content', 'Definiendum'), relationship = 'Is-a')"
   ]
  },
  {
   "cell_type": "code",
   "execution_count": 81,
   "metadata": {},
   "outputs": [],
   "source": [
    "## Populate network with Defines relationship edges.\n",
    "for i in range(0, len(raw_defs)):\n",
    "        dn.add_edge(attribute_value_node_id(dn, 'content', raw_defs[i]['definiens']), attribute_value_node_id(dn, 'content', raw_defs[i]['definiendum']), relationship = 'Defines')    "
   ]
  },
  {
   "cell_type": "code",
   "execution_count": 82,
   "metadata": {},
   "outputs": [
    {
     "name": "stdout",
     "output_type": "stream",
     "text": [
      "[('node_67D51X', 'node_VZILJP'), ('node_UQQBR8', 'node_VZILJP'), ('node_WYGUK7', 'node_VZILJP'), ('node_6FQK4Q', 'node_VZILJP'), ('node_SLF39T', 'node_VZILJP'), ('node_M03577', 'node_VZILJP'), ('node_XNNKVT', 'node_VZILJP'), ('node_GTZ6Y8', 'node_VZILJP'), ('node_5OIKMI', 'node_VZILJP'), ('node_5N37IU', 'node_VZILJP'), ('node_BO6B2X', 'node_VZILJP'), ('node_IB9Y9S', 'node_VZILJP'), ('node_0FCS5Y', 'node_VZILJP'), ('node_KP5PHT', 'node_VZILJP'), ('node_R5FFF2', 'node_VZILJP'), ('node_3G4LNZ', 'node_G5LY9N'), ('node_3G4LNZ', 'node_67D51X'), ('node_KDMBS8', 'node_G5LY9N'), ('node_KDMBS8', 'node_UQQBR8'), ('node_RB0D0B', 'node_G5LY9N'), ('node_RB0D0B', 'node_WYGUK7'), ('node_SC41W2', 'node_G5LY9N'), ('node_SC41W2', 'node_6FQK4Q'), ('node_EAMVAA', 'node_G5LY9N'), ('node_EAMVAA', 'node_SLF39T'), ('node_5LJ8YY', 'node_G5LY9N'), ('node_5LJ8YY', 'node_M03577'), ('node_01J0Q2', 'node_G5LY9N'), ('node_01J0Q2', 'node_XNNKVT'), ('node_FXEWTP', 'node_G5LY9N'), ('node_FXEWTP', 'node_GTZ6Y8'), ('node_RZCX3F', 'node_G5LY9N'), ('node_RZCX3F', 'node_5OIKMI'), ('node_W1PJKK', 'node_G5LY9N'), ('node_W1PJKK', 'node_5N37IU'), ('node_6V1CI0', 'node_G5LY9N'), ('node_6V1CI0', 'node_BO6B2X'), ('node_DS2LA9', 'node_G5LY9N'), ('node_DS2LA9', 'node_IB9Y9S'), ('node_0FELFC', 'node_G5LY9N'), ('node_0FELFC', 'node_0FCS5Y'), ('node_QRH7GK', 'node_G5LY9N'), ('node_QRH7GK', 'node_KP5PHT'), ('node_7E419H', 'node_G5LY9N'), ('node_7E419H', 'node_R5FFF2')]\n"
     ]
    }
   ],
   "source": [
    "print(dn.edges())"
   ]
  },
  {
   "cell_type": "code",
   "execution_count": 83,
   "metadata": {},
   "outputs": [
    {
     "data": {
      "text/plain": [
       "45"
      ]
     },
     "execution_count": 83,
     "metadata": {},
     "output_type": "execute_result"
    }
   ],
   "source": [
    "len(dn.edges())"
   ]
  },
  {
   "cell_type": "code",
   "execution_count": 84,
   "metadata": {},
   "outputs": [
    {
     "name": "stdout",
     "output_type": "stream",
     "text": [
      "{('node_67D51X', 'node_VZILJP'): 'Is-a', ('node_UQQBR8', 'node_VZILJP'): 'Is-a', ('node_WYGUK7', 'node_VZILJP'): 'Is-a', ('node_6FQK4Q', 'node_VZILJP'): 'Is-a', ('node_SLF39T', 'node_VZILJP'): 'Is-a', ('node_M03577', 'node_VZILJP'): 'Is-a', ('node_XNNKVT', 'node_VZILJP'): 'Is-a', ('node_GTZ6Y8', 'node_VZILJP'): 'Is-a', ('node_5OIKMI', 'node_VZILJP'): 'Is-a', ('node_5N37IU', 'node_VZILJP'): 'Is-a', ('node_BO6B2X', 'node_VZILJP'): 'Is-a', ('node_IB9Y9S', 'node_VZILJP'): 'Is-a', ('node_0FCS5Y', 'node_VZILJP'): 'Is-a', ('node_KP5PHT', 'node_VZILJP'): 'Is-a', ('node_R5FFF2', 'node_VZILJP'): 'Is-a', ('node_3G4LNZ', 'node_G5LY9N'): 'Is-a', ('node_3G4LNZ', 'node_67D51X'): 'Defines', ('node_KDMBS8', 'node_G5LY9N'): 'Is-a', ('node_KDMBS8', 'node_UQQBR8'): 'Defines', ('node_RB0D0B', 'node_G5LY9N'): 'Is-a', ('node_RB0D0B', 'node_WYGUK7'): 'Defines', ('node_SC41W2', 'node_G5LY9N'): 'Is-a', ('node_SC41W2', 'node_6FQK4Q'): 'Defines', ('node_EAMVAA', 'node_G5LY9N'): 'Is-a', ('node_EAMVAA', 'node_SLF39T'): 'Defines', ('node_5LJ8YY', 'node_G5LY9N'): 'Is-a', ('node_5LJ8YY', 'node_M03577'): 'Defines', ('node_01J0Q2', 'node_G5LY9N'): 'Is-a', ('node_01J0Q2', 'node_XNNKVT'): 'Defines', ('node_FXEWTP', 'node_G5LY9N'): 'Is-a', ('node_FXEWTP', 'node_GTZ6Y8'): 'Defines', ('node_RZCX3F', 'node_G5LY9N'): 'Is-a', ('node_RZCX3F', 'node_5OIKMI'): 'Defines', ('node_W1PJKK', 'node_G5LY9N'): 'Is-a', ('node_W1PJKK', 'node_5N37IU'): 'Defines', ('node_6V1CI0', 'node_G5LY9N'): 'Is-a', ('node_6V1CI0', 'node_BO6B2X'): 'Defines', ('node_DS2LA9', 'node_G5LY9N'): 'Is-a', ('node_DS2LA9', 'node_IB9Y9S'): 'Defines', ('node_0FELFC', 'node_G5LY9N'): 'Is-a', ('node_0FELFC', 'node_0FCS5Y'): 'Defines', ('node_QRH7GK', 'node_G5LY9N'): 'Is-a', ('node_QRH7GK', 'node_KP5PHT'): 'Defines', ('node_7E419H', 'node_G5LY9N'): 'Is-a', ('node_7E419H', 'node_R5FFF2'): 'Defines'}\n"
     ]
    }
   ],
   "source": [
    "print(nx.get_edge_attributes(dn, 'relationship'))"
   ]
  },
  {
   "cell_type": "code",
   "execution_count": null,
   "metadata": {},
   "outputs": [],
   "source": []
  }
 ],
 "metadata": {
  "kernelspec": {
   "display_name": "Python 3",
   "language": "python",
   "name": "python3"
  },
  "language_info": {
   "codemirror_mode": {
    "name": "ipython",
    "version": 3
   },
   "file_extension": ".py",
   "mimetype": "text/x-python",
   "name": "python",
   "nbconvert_exporter": "python",
   "pygments_lexer": "ipython3",
   "version": "3.6.5"
  }
 },
 "nbformat": 4,
 "nbformat_minor": 2
}
