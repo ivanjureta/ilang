{
 "cells": [
  {
   "cell_type": "code",
   "execution_count": 1,
   "metadata": {},
   "outputs": [],
   "source": [
    "import ilang_fs as il"
   ]
  },
  {
   "cell_type": "code",
   "execution_count": 2,
   "metadata": {},
   "outputs": [],
   "source": [
    "project_name = 'UN_GWHT'"
   ]
  },
  {
   "cell_type": "code",
   "execution_count": 3,
   "metadata": {},
   "outputs": [],
   "source": [
    "il.setup_project(project_name, True)"
   ]
  },
  {
   "cell_type": "code",
   "execution_count": 4,
   "metadata": {},
   "outputs": [],
   "source": [
    "data = il.raw_data_from_CSV('raw_data/ilang_UN_GWHT_data.csv', ',')"
   ]
  },
  {
   "cell_type": "code",
   "execution_count": 5,
   "metadata": {},
   "outputs": [],
   "source": [
    "structured_data = il.structure_raw_data(data)"
   ]
  },
  {
   "cell_type": "code",
   "execution_count": 6,
   "metadata": {},
   "outputs": [],
   "source": [
    "definition_network = il.make_rel_net(structured_data, 'Definiens', 'Definiendum')"
   ]
  },
  {
   "cell_type": "code",
   "execution_count": 7,
   "metadata": {},
   "outputs": [],
   "source": [
    "structured_dependency_network_data = il.structure_dependency_network_data(structured_data)"
   ]
  },
  {
   "cell_type": "code",
   "execution_count": 8,
   "metadata": {},
   "outputs": [],
   "source": [
    "internal_dependencies = il.find_internal_dependencies(structured_dependency_network_data)"
   ]
  },
  {
   "cell_type": "code",
   "execution_count": 9,
   "metadata": {},
   "outputs": [],
   "source": [
    "internal_dependency_network = il.make_internal_dependency_network(internal_dependencies)"
   ]
  },
  {
   "cell_type": "code",
   "execution_count": 10,
   "metadata": {},
   "outputs": [
    {
     "data": {
      "text/plain": [
       "'Biogeographic(al) provinces and Comparative evaluations share 119 shared nodes, and 116 shared edges.'"
      ]
     },
     "execution_count": 10,
     "metadata": {},
     "output_type": "execute_result"
    }
   ],
   "source": [
    "il.compute_definition_tree_similarity(internal_dependency_network, 'Biogeographic(al) provinces', 'Comparative evaluations')"
   ]
  },
  {
   "cell_type": "code",
   "execution_count": 11,
   "metadata": {},
   "outputs": [],
   "source": [
    "dfs_stats = il.compute_defintion_tree_similarity_all_pairs(internal_dependency_network)"
   ]
  },
  {
   "cell_type": "code",
   "execution_count": 12,
   "metadata": {},
   "outputs": [],
   "source": [
    "il.print_to_txt(dfs_stats, project_name, 'definition_tree_similarity_stats', save_to_project_dir = True)"
   ]
  },
  {
   "cell_type": "code",
   "execution_count": 13,
   "metadata": {},
   "outputs": [
    {
     "data": {
      "text/plain": [
       "24806"
      ]
     },
     "execution_count": 13,
     "metadata": {},
     "output_type": "execute_result"
    }
   ],
   "source": [
    "len(dfs_stats)"
   ]
  },
  {
   "cell_type": "code",
   "execution_count": 12,
   "metadata": {},
   "outputs": [],
   "source": [
    "top = il.show_definition_tree_similarity_stats(dfs_stats, internal_dependency_network, show = 15, top = True, sort_by_shared_nodes = True)\n",
    "bot = il.show_definition_tree_similarity_stats(dfs_stats, internal_dependency_network, show = 15, top = False, sort_by_shared_nodes = True)"
   ]
  },
  {
   "cell_type": "code",
   "execution_count": 13,
   "metadata": {
    "scrolled": false
   },
   "outputs": [
    {
     "name": "stdout",
     "output_type": "stream",
     "text": [
      "| Term                              | Term                              |   Shared Terms |   Term Share |   Shared Dependencies |   Dependency Share |\n",
      "|:----------------------------------|:----------------------------------|---------------:|-------------:|----------------------:|-------------------:|\n",
      "| Biogeographic(al) provinces       | Comparative evaluations           |            119 |         0.75 |                   116 |               0.09 |\n",
      "| Harmonization                     | Inventory of property             |            119 |         0.75 |                   116 |               0.09 |\n",
      "| Inventory of property             | Harmonization                     |            119 |         0.75 |                   116 |               0.09 |\n",
      "| Comparative evaluations           | Biogeographic(al) provinces       |            119 |         0.75 |                   116 |               0.09 |\n",
      "| Tentative list                    | Comparative assessments           |            119 |         0.75 |                   114 |               0.08 |\n",
      "| Comparative assessments           | Tentative list                    |            119 |         0.75 |                   114 |               0.08 |\n",
      "| Emblem                            | World Heritage logo               |            115 |         0.73 |                   114 |               0.08 |\n",
      "| World Heritage logo               | Emblem                            |            115 |         0.73 |                   114 |               0.08 |\n",
      "| Global Strategy                   | Global Strategy for the Implem... |            114 |         0.72 |                   113 |               0.08 |\n",
      "| Deferred                          | Deferral                          |            114 |         0.72 |                   113 |               0.08 |\n",
      "| Organization of World Heritage... | OWHC                              |            115 |         0.73 |                   113 |               0.08 |\n",
      "| Deferral                          | Deferred                          |            114 |         0.72 |                   113 |               0.08 |\n",
      "| Global Strategy for the Implem... | Global Strategy                   |            114 |         0.72 |                   113 |               0.08 |\n",
      "| OWHC                              | Organization of World Heritage... |            115 |         0.73 |                   113 |               0.08 |\n",
      "| Term                              | Term                              |   Shared Terms |   Term Share |   Shared Dependencies |   Dependency Share |\n",
      "|:----------------------------------|:----------------------------------|---------------:|-------------:|----------------------:|-------------------:|\n",
      "| Reactive monitoring               | Fossil landscape                  |              1 |         0.01 |                     0 |                  0 |\n",
      "| Reactive monitoring               | International Centre for the S... |              1 |         0.01 |                     0 |                  0 |\n",
      "| Advisory bodies                   | Fossil landscape                  |              1 |         0.01 |                     0 |                  0 |\n",
      "| Advisory bodies                   | International Centre for the S... |              1 |         0.01 |                     0 |                  0 |\n",
      "| State of conservation             | Fossil landscape                  |              1 |         0.01 |                     0 |                  0 |\n",
      "| State of conservation             | International Centre for the S... |              1 |         0.01 |                     0 |                  0 |\n",
      "| Balance                           | Fossil landscape                  |              1 |         0.01 |                     0 |                  0 |\n",
      "| Balance                           | International Centre for the S... |              1 |         0.01 |                     0 |                  0 |\n",
      "| Assistance                        | Fossil landscape                  |              1 |         0.01 |                     0 |                  0 |\n",
      "| Assistance                        | International Centre for the S... |              1 |         0.01 |                     0 |                  0 |\n",
      "| Convention concerning the prot... | Fossil landscape                  |              1 |         0.01 |                     0 |                  0 |\n",
      "| Convention concerning the prot... | International Centre for the S... |              1 |         0.01 |                     0 |                  0 |\n",
      "| Emergency assistance              | Fossil landscape                  |              1 |         0.01 |                     0 |                  0 |\n",
      "| Emergency assistance              | International Centre for the S... |              1 |         0.01 |                     0 |                  0 |\n"
     ]
    }
   ],
   "source": [
    "from tabulate import tabulate\n",
    "print(tabulate(top, headers = ['Term', 'Term', 'Shared Terms', 'Term Share', 'Shared Dependencies', 'Dependency Share'], tablefmt=\"pipe\"))\n",
    "print(tabulate(bot, headers = ['Term', 'Term', 'Shared Terms', 'Term Share', 'Shared Dependencies', 'Dependency Share'], tablefmt=\"pipe\"))"
   ]
  },
  {
   "cell_type": "code",
   "execution_count": null,
   "metadata": {},
   "outputs": [],
   "source": []
  }
 ],
 "metadata": {
  "kernelspec": {
   "display_name": "Python 3",
   "language": "python",
   "name": "python3"
  },
  "language_info": {
   "codemirror_mode": {
    "name": "ipython",
    "version": 3
   },
   "file_extension": ".py",
   "mimetype": "text/x-python",
   "name": "python",
   "nbconvert_exporter": "python",
   "pygments_lexer": "ipython3",
   "version": "3.6.5"
  }
 },
 "nbformat": 4,
 "nbformat_minor": 2
}
