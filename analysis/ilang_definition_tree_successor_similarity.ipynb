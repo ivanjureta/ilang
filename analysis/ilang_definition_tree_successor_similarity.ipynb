{
 "cells": [
  {
   "cell_type": "code",
   "execution_count": 1,
   "metadata": {},
   "outputs": [],
   "source": [
    "import ilang_fs as il"
   ]
  },
  {
   "cell_type": "code",
   "execution_count": 2,
   "metadata": {},
   "outputs": [],
   "source": [
    "project_name = 'UN_GWHT'"
   ]
  },
  {
   "cell_type": "code",
   "execution_count": 3,
   "metadata": {},
   "outputs": [],
   "source": [
    "il.setup_project(project_name, True)"
   ]
  },
  {
   "cell_type": "code",
   "execution_count": 4,
   "metadata": {},
   "outputs": [],
   "source": [
    "data = il.raw_data_from_CSV('raw_data/ilang_UN_GWHT_data.csv', ',')"
   ]
  },
  {
   "cell_type": "code",
   "execution_count": 5,
   "metadata": {},
   "outputs": [],
   "source": [
    "structured_data = il.structure_raw_data(data)"
   ]
  },
  {
   "cell_type": "code",
   "execution_count": 6,
   "metadata": {},
   "outputs": [],
   "source": [
    "definition_network = il.make_rel_net(structured_data, 'Definiens', 'Definiendum')"
   ]
  },
  {
   "cell_type": "code",
   "execution_count": 7,
   "metadata": {},
   "outputs": [],
   "source": [
    "structured_dependency_network_data = il.structure_dependency_network_data(structured_data)"
   ]
  },
  {
   "cell_type": "code",
   "execution_count": 8,
   "metadata": {},
   "outputs": [],
   "source": [
    "internal_dependencies = il.find_internal_dependencies(structured_dependency_network_data)"
   ]
  },
  {
   "cell_type": "code",
   "execution_count": 9,
   "metadata": {},
   "outputs": [],
   "source": [
    "internal_dependency_network = il.make_internal_dependency_network(internal_dependencies)"
   ]
  },
  {
   "cell_type": "code",
   "execution_count": 10,
   "metadata": {},
   "outputs": [],
   "source": [
    "successor_similarity = il.compute_successor_similarity(internal_dependency_network)"
   ]
  },
  {
   "cell_type": "code",
   "execution_count": 11,
   "metadata": {},
   "outputs": [],
   "source": [
    "il.print_to_txt(successor_similarity, project_name, 'successor_similarity', save_to_project_dir = True)"
   ]
  },
  {
   "cell_type": "code",
   "execution_count": 12,
   "metadata": {
    "scrolled": true
   },
   "outputs": [],
   "source": [
    "top = il.compute_successor_similarity_stats(internal_dependency_network, successor_similarity, show = 10, top = True)\n",
    "bot = il.compute_successor_similarity_stats(internal_dependency_network, successor_similarity, show = 10, top = False)"
   ]
  },
  {
   "cell_type": "code",
   "execution_count": 13,
   "metadata": {},
   "outputs": [
    {
     "name": "stdout",
     "output_type": "stream",
     "text": [
      "| Term                              | Term                  |   Shared |   Share Score |\n",
      "|:----------------------------------|:----------------------|---------:|--------------:|\n",
      "| World Heritage logo               | Emblem                |      116 |          0.73 |\n",
      "| Fund for the Protection of the... | Fund                  |      116 |          0.73 |\n",
      "| Emblem                            | World Heritage logo   |      115 |          0.73 |\n",
      "| World Heritage logo               | World Heritage Bureau |      115 |          0.73 |\n",
      "| World Heritage logo               | World Heritage        |      115 |          0.73 |\n",
      "| World Heritage Bureau             | World Heritage        |      114 |          0.72 |\n",
      "| World Heritage Bureau             | Emblem                |      114 |          0.72 |\n",
      "| World Heritage Bureau             | World Heritage logo   |      114 |          0.72 |\n",
      "| World Heritage                    | World Heritage Bureau |      114 |          0.72 |\n",
      "| Term                  | Term                              |   Shared |   Share Score |\n",
      "|:----------------------|:----------------------------------|---------:|--------------:|\n",
      "| Reactive monitoring   | Fossil landscape                  |        0 |             0 |\n",
      "| Reactive monitoring   | International Centre for the S... |        0 |             0 |\n",
      "| Advisory bodies       | Fossil landscape                  |        0 |             0 |\n",
      "| Advisory bodies       | International Centre for the S... |        0 |             0 |\n",
      "| State of conservation | Fossil landscape                  |        0 |             0 |\n",
      "| State of conservation | International Centre for the S... |        0 |             0 |\n",
      "| Balance               | Fossil landscape                  |        0 |             0 |\n",
      "| Balance               | International Centre for the S... |        0 |             0 |\n",
      "| Assistance            | Fossil landscape                  |        0 |             0 |\n"
     ]
    }
   ],
   "source": [
    "from tabulate import tabulate\n",
    "print(tabulate(top, headers = ['Term', 'Term', 'Shared', 'Share Score'], tablefmt=\"pipe\"))\n",
    "print(tabulate(bot, headers = ['Term', 'Term', 'Shared', 'Share Score'], tablefmt=\"pipe\"))"
   ]
  },
  {
   "cell_type": "code",
   "execution_count": null,
   "metadata": {},
   "outputs": [],
   "source": []
  }
 ],
 "metadata": {
  "kernelspec": {
   "display_name": "Python 3",
   "language": "python",
   "name": "python3"
  },
  "language_info": {
   "codemirror_mode": {
    "name": "ipython",
    "version": 3
   },
   "file_extension": ".py",
   "mimetype": "text/x-python",
   "name": "python",
   "nbconvert_exporter": "python",
   "pygments_lexer": "ipython3",
   "version": "3.6.5"
  }
 },
 "nbformat": 4,
 "nbformat_minor": 2
}
