{
 "cells": [
  {
   "cell_type": "code",
   "execution_count": 1,
   "metadata": {},
   "outputs": [],
   "source": [
    "import ilang_fs as il"
   ]
  },
  {
   "cell_type": "code",
   "execution_count": 2,
   "metadata": {},
   "outputs": [],
   "source": [
    "project_name = 'SRN'"
   ]
  },
  {
   "cell_type": "code",
   "execution_count": 3,
   "metadata": {},
   "outputs": [],
   "source": [
    "il.setup_project(project_name, True)"
   ]
  },
  {
   "cell_type": "code",
   "execution_count": 4,
   "metadata": {},
   "outputs": [],
   "source": [
    "data = il.raw_data_from_CSV('raw_data/ilang_SRN_data.csv', ',')"
   ]
  },
  {
   "cell_type": "code",
   "execution_count": 5,
   "metadata": {},
   "outputs": [],
   "source": [
    "structured_data = il.structure_raw_data(data)"
   ]
  },
  {
   "cell_type": "code",
   "execution_count": 6,
   "metadata": {},
   "outputs": [],
   "source": [
    "definition_network = il.make_rel_net(structured_data, 'Definiens', 'Definiendum')"
   ]
  },
  {
   "cell_type": "code",
   "execution_count": 7,
   "metadata": {},
   "outputs": [],
   "source": [
    "structured_dependency_network_data = il.structure_dependency_network_data(structured_data)"
   ]
  },
  {
   "cell_type": "code",
   "execution_count": 8,
   "metadata": {},
   "outputs": [],
   "source": [
    "internal_dependencies = il.find_internal_dependencies(structured_dependency_network_data)"
   ]
  },
  {
   "cell_type": "code",
   "execution_count": 9,
   "metadata": {},
   "outputs": [],
   "source": [
    "internal_dependency_network = il.make_internal_dependency_network(internal_dependencies)"
   ]
  },
  {
   "cell_type": "code",
   "execution_count": 10,
   "metadata": {},
   "outputs": [],
   "source": [
    "internal_dependency_stats = il.compute_internal_dependency_stats(internal_dependency_network)"
   ]
  },
  {
   "cell_type": "code",
   "execution_count": 11,
   "metadata": {},
   "outputs": [],
   "source": [
    "# Print data to text files.\n",
    "il.print_to_txt(data, project_name, 'data', save_to_project_dir = True)\n",
    "il.print_to_txt(structured_data, project_name, 'structured_data', save_to_project_dir = True)\n",
    "il.print_to_txt(definition_network.nodes(), project_name, 'definition_network_nodes', save_to_project_dir = True)\n",
    "il.print_to_txt(definition_network.edges(), project_name, 'definition_network_edges', save_to_project_dir = True)\n",
    "il.print_to_txt(structured_dependency_network_data, project_name, 'structured_dependency_network_data', save_to_project_dir = True)\n",
    "il.print_to_txt(internal_dependencies, project_name, 'internal_dependencies', save_to_project_dir = True)\n",
    "il.print_to_txt(internal_dependency_network.nodes(), project_name, 'internal_dependency_network_nodes', save_to_project_dir = True)\n",
    "il.print_to_txt(internal_dependency_network.edges(), project_name, 'internal_dependency_network_edges', save_to_project_dir = True)\n",
    "il.print_to_txt(internal_dependency_stats, project_name, 'internal_dependency_stats', save_to_project_dir = True)"
   ]
  },
  {
   "cell_type": "code",
   "execution_count": 12,
   "metadata": {
    "scrolled": true
   },
   "outputs": [
    {
     "name": "stdout",
     "output_type": "stream",
     "text": [
      "| Term                    |   In Count |   In Share |   Out Count |   Out Share |   Total Share |   Balance |\n",
      "|:------------------------|-----------:|-----------:|------------:|------------:|--------------:|----------:|\n",
      "| Report                  |          0 |      0     |           3 |       0.273 |         0.273 |    -0.273 |\n",
      "| Complex Shop Display    |          0 |      0     |           2 |       0.182 |         0.182 |    -0.182 |\n",
      "| Analyst                 |          0 |      0     |           1 |       0.091 |         0.091 |    -0.091 |\n",
      "| Administrator           |          0 |      0     |           1 |       0.091 |         0.091 |    -0.091 |\n",
      "| Shop Display Identifier |          0 |      0     |           1 |       0.091 |         0.091 |    -0.091 |\n",
      "| SDM                     |          2 |      0.182 |           1 |       0.091 |         0.273 |     0.091 |\n",
      "| Basic Shop Display      |          1 |      0.091 |           1 |       0.091 |         0.182 |     0     |\n",
      "| Shop Display Supplier   |          0 |      0     |           1 |       0.091 |         0.091 |    -0.091 |\n",
      "| SRN                     |          3 |      0.273 |           0 |       0     |         0.273 |     0.273 |\n",
      "| Shop Display            |          4 |      0.364 |           0 |       0     |         0.364 |     0.364 |\n",
      "| POP Data                |          1 |      0.091 |           0 |       0     |         0.091 |     0.091 |\n"
     ]
    }
   ],
   "source": [
    "il.show_internal_dependency_stats(internal_dependency_stats, 4) # 4 orders by Total Share, 5 by Balance"
   ]
  },
  {
   "cell_type": "code",
   "execution_count": 13,
   "metadata": {
    "scrolled": true
   },
   "outputs": [
    {
     "name": "stdout",
     "output_type": "stream",
     "text": [
      "Report, SRN, SDM, Shop Display, POP Data\n",
      "SRN\n",
      "Analyst, SRN\n",
      "Administrator, SRN\n",
      "Shop Display Identifier, SDM, Shop Display\n",
      "SDM, Shop Display\n",
      "Shop Display\n",
      "Basic Shop Display, Shop Display\n",
      "Complex Shop Display, Shop Display, Basic Shop Display\n",
      "Shop Display Supplier, Shop Display\n",
      "POP Data\n"
     ]
    }
   ],
   "source": [
    "definition_trees = il.find_definition_trees(internal_dependency_network)"
   ]
  },
  {
   "cell_type": "code",
   "execution_count": 14,
   "metadata": {},
   "outputs": [],
   "source": [
    "definition_trees_stats = il.compute_defintion_trees_stats(definition_trees)"
   ]
  },
  {
   "cell_type": "code",
   "execution_count": 15,
   "metadata": {},
   "outputs": [
    {
     "data": {
      "text/plain": [
       "{'Report': {'size': 5, 'coverage': 0.455},\n",
       " 'SRN': {'size': 1, 'coverage': 0.091},\n",
       " 'Analyst': {'size': 2, 'coverage': 0.182},\n",
       " 'Administrator': {'size': 2, 'coverage': 0.182},\n",
       " 'Shop Display Identifier': {'size': 3, 'coverage': 0.273},\n",
       " 'SDM': {'size': 2, 'coverage': 0.182},\n",
       " 'Shop Display': {'size': 1, 'coverage': 0.091},\n",
       " 'Basic Shop Display': {'size': 2, 'coverage': 0.182},\n",
       " 'Complex Shop Display': {'size': 3, 'coverage': 0.273},\n",
       " 'Shop Display Supplier': {'size': 2, 'coverage': 0.182},\n",
       " 'POP Data': {'size': 1, 'coverage': 0.091}}"
      ]
     },
     "execution_count": 15,
     "metadata": {},
     "output_type": "execute_result"
    }
   ],
   "source": [
    "definition_trees_stats"
   ]
  },
  {
   "cell_type": "code",
   "execution_count": 16,
   "metadata": {},
   "outputs": [
    {
     "name": "stdout",
     "output_type": "stream",
     "text": [
      "| Term                    |   Size |   Coverage |\n",
      "|:------------------------|-------:|-----------:|\n",
      "| Report                  |      5 |      0.455 |\n",
      "| Shop Display Identifier |      3 |      0.273 |\n",
      "| Complex Shop Display    |      3 |      0.273 |\n",
      "| Analyst                 |      2 |      0.182 |\n",
      "| Administrator           |      2 |      0.182 |\n",
      "| SDM                     |      2 |      0.182 |\n",
      "| Basic Shop Display      |      2 |      0.182 |\n",
      "| Shop Display Supplier   |      2 |      0.182 |\n",
      "| SRN                     |      1 |      0.091 |\n",
      "| Shop Display            |      1 |      0.091 |\n",
      "| POP Data                |      1 |      0.091 |\n"
     ]
    }
   ],
   "source": [
    "il.show_definition_trees_stats(definition_trees_stats, 1)"
   ]
  },
  {
   "cell_type": "code",
   "execution_count": 14,
   "metadata": {},
   "outputs": [],
   "source": [
    "il.print_to_txt(definition_trees, project_name, 'definition_trees', save_to_project_dir = True)"
   ]
  },
  {
   "cell_type": "code",
   "execution_count": null,
   "metadata": {},
   "outputs": [],
   "source": []
  },
  {
   "cell_type": "code",
   "execution_count": null,
   "metadata": {},
   "outputs": [],
   "source": []
  },
  {
   "cell_type": "code",
   "execution_count": null,
   "metadata": {},
   "outputs": [],
   "source": []
  },
  {
   "cell_type": "code",
   "execution_count": 16,
   "metadata": {},
   "outputs": [],
   "source": [
    "import networkx as nx"
   ]
  },
  {
   "cell_type": "code",
   "execution_count": 17,
   "metadata": {},
   "outputs": [],
   "source": [
    "p = nx.all_simple_paths(internal_dependency_network, source='Report', target='SDM')"
   ]
  },
  {
   "cell_type": "code",
   "execution_count": 18,
   "metadata": {},
   "outputs": [
    {
     "name": "stdout",
     "output_type": "stream",
     "text": [
      "['Report', 'SDM']\n"
     ]
    }
   ],
   "source": [
    "for i in p: print(i)"
   ]
  },
  {
   "cell_type": "code",
   "execution_count": null,
   "metadata": {},
   "outputs": [],
   "source": []
  },
  {
   "cell_type": "code",
   "execution_count": null,
   "metadata": {},
   "outputs": [],
   "source": []
  },
  {
   "cell_type": "code",
   "execution_count": null,
   "metadata": {},
   "outputs": [],
   "source": []
  },
  {
   "cell_type": "code",
   "execution_count": 61,
   "metadata": {},
   "outputs": [
    {
     "data": {
      "text/plain": [
       "115"
      ]
     },
     "execution_count": 61,
     "metadata": {},
     "output_type": "execute_result"
    }
   ],
   "source": [
    "len(T.nodes())"
   ]
  },
  {
   "cell_type": "code",
   "execution_count": 15,
   "metadata": {},
   "outputs": [],
   "source": [
    "import networkx as nx"
   ]
  },
  {
   "cell_type": "code",
   "execution_count": 16,
   "metadata": {},
   "outputs": [],
   "source": [
    "dpn = nx.MultiDiGraph()"
   ]
  },
  {
   "cell_type": "code",
   "execution_count": 20,
   "metadata": {},
   "outputs": [],
   "source": [
    "for i in x_dependency_relationships:\n",
    "    dpn.add_edge(x_dependency_relationships[i]['definiendum'], x_dependency_relationships[i]['depends_on'])"
   ]
  },
  {
   "cell_type": "code",
   "execution_count": 21,
   "metadata": {},
   "outputs": [],
   "source": [
    "# Draw the dependency network.\n",
    "node_positions = il.pos_by_in_degrees(dpn)\n",
    "node_label_positions = il.offset_node_labels(node_positions, 1, 1)\n",
    "node_colors = il.make_color_list(len(dpn.nodes()))\n",
    "edge_label_content = dict()\n",
    "for e in dpn.edges(): edge_label_content[e] = 'depends_on'\n",
    "colored_nodes = il.color_nodes(dpn, node_colors, '#FFFFFF')\n",
    "colored_edges = il.color_edge_by_target_node(dpn, colored_nodes)\n",
    "node_label_content = il.format_node_labels(dpn, x_dependency_data, 'definiendum', 30, 55)\n",
    "# figure = il.draw_rel_net(graph = dpn, node_positions= node_positions, node_labels = node_label_content, node_label_positions = node_label_positions, node_colors = colored_nodes, edge_labels = edge_label_content, edge_colors = colored_edges, fig_w = 30, fig_h = 60, dpi_val = 60, fig_margin = 0.15, save_to_project_dir = True, image_description = 'dependency_network')"
   ]
  }
 ],
 "metadata": {
  "kernelspec": {
   "display_name": "Python 3",
   "language": "python",
   "name": "python3"
  },
  "language_info": {
   "codemirror_mode": {
    "name": "ipython",
    "version": 3
   },
   "file_extension": ".py",
   "mimetype": "text/x-python",
   "name": "python",
   "nbconvert_exporter": "python",
   "pygments_lexer": "ipython3",
   "version": "3.6.5"
  }
 },
 "nbformat": 4,
 "nbformat_minor": 2
}
