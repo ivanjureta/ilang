{
 "cells": [
  {
   "cell_type": "code",
   "execution_count": 3,
   "metadata": {},
   "outputs": [],
   "source": [
    "# Use Python 3.6, networkx 1.11\n",
    "# Necessary...\n",
    "import csv # to read CSV file\n",
    "import networkx as nx # to make and analyze networks/graphs\n",
    "import unicodedata # to compare strings while ignoring case\n",
    "import matplotlib.pyplot as plt # to draw figures\n",
    "from matplotlib.pyplot import figure # to draw figures\n",
    "from tabulate import tabulate # to display markdown-compatible tables\n",
    "import operator # to make sorting easier, using .itemgetter\n",
    "import copy # to make deep copies of lists and such\n",
    "from copy import deepcopy\n",
    "\n",
    "# Function to ignore case, when searching for occurrences of definiendum and short definiendum in definiens.\n",
    "def normalize_caseless(text):\n",
    "    return unicodedata.normalize(\"NFKD\", text.casefold())"
   ]
  },
  {
   "cell_type": "code",
   "execution_count": 4,
   "metadata": {},
   "outputs": [],
   "source": [
    "# Set the name of the project, to use as prefix on names of all output files.\n",
    "## Project: UN Glossary of World Heritage Terms\n",
    "# analysis_project_name = \"UN_GWHT_TDN\" \n",
    "# analysis_project_data_file = \"ilang_UN_GWHT_terminology_raw - Sheet1.csv\"\n",
    "## Project: Smart Retail Network\n",
    "analysis_project_name = \"SRN_TDN\" \n",
    "analysis_project_data_file = \"raw_data/ilang_SRN_data.csv\""
   ]
  },
  {
   "cell_type": "code",
   "execution_count": 5,
   "metadata": {},
   "outputs": [],
   "source": [
    "# Get raw definitions from a CSV file\n",
    "# Create empty raw_definitions, to hold definiendum, short definiendum (abbreviation of definiens), and definiens.\n",
    "raw_definitions = []\n",
    "# Fill raw_definitions as a list of triples, where a triple includes the definiendum, short definiendum, and definiens.\n",
    "with open(analysis_project_data_file) as raw_definitions_file:\n",
    "    raw_definitions_csv = csv.reader(raw_definitions_file, delimiter = ',')\n",
    "    for row in raw_definitions_csv:\n",
    "        raw_definitions.append({'definiendum':row[0], 'short definiendum':row[1], 'definiens':row[2]})"
   ]
  },
  {
   "cell_type": "code",
   "execution_count": 6,
   "metadata": {},
   "outputs": [],
   "source": [
    "# Remove the column title row from raw_definitions.\n",
    "raw_defs = [(raw_definitions[i]) for i in range(1,len(raw_definitions))]"
   ]
  },
  {
   "cell_type": "code",
   "execution_count": 12,
   "metadata": {},
   "outputs": [
    {
     "name": "stdout",
     "output_type": "stream",
     "text": [
      "{'SRN': 'SRN', 'SDM': 'SDM', 'Shop Display': 'Shop Display', 'Basic Shop Display': ('Basic Shop Display', 'BSD'), 'Complex Shop Display': ('Complex Shop Display', 'CSD'), 'Shop Display Identifier': ('Shop Display Identifier', 'SDID'), 'Shop Display Supplier': 'Shop Display Supplier', 'Point of Purchase': ('Point of Purchase', 'POP'), 'Field Merchandiser': ('Field Merchandiser', 'FMR'), 'POP Personnel': ('POP Personnel', 'POPP'), 'Key Account': ('Key Account', 'KA'), 'POP Data': 'POP Data', 'Report': 'Report', 'Analyst': 'Analyst', 'Administrator': 'Administrator'}\n"
     ]
    }
   ],
   "source": [
    "# Term Network\n",
    "t_n = nx.DiGraph()\n",
    "\n",
    "def node_label(definiendum, short_definiendum):\n",
    "    if definiendum in short_definiendum: return definiendum\n",
    "    else: return (definiendum, short_definiendum)\n",
    "\n",
    "[ t_n.add_node(raw_defs[i]['definiendum'], x_label = node_label(raw_defs[i]['definiendum'], raw_defs[i]['short definiendum'])) for i in range(0, len(raw_defs)) ]\n",
    "\n",
    "print(nx.get_node_attributes(t_n, 'x_label'))"
   ]
  },
  {
   "cell_type": "code",
   "execution_count": 13,
   "metadata": {},
   "outputs": [
    {
     "name": "stdout",
     "output_type": "stream",
     "text": [
      "['SRN', 'SDM', 'Shop Display', 'Basic Shop Display', 'Complex Shop Display', 'Shop Display Identifier', 'Shop Display Supplier', 'Point of Purchase', 'Field Merchandiser', 'POP Personnel', 'Key Account', 'POP Data', 'Report', 'Analyst', 'Administrator']\n"
     ]
    }
   ],
   "source": [
    "print(t_n.nodes())"
   ]
  },
  {
   "cell_type": "code",
   "execution_count": 43,
   "metadata": {},
   "outputs": [
    {
     "data": {
      "text/plain": [
       "'SRN'"
      ]
     },
     "execution_count": 43,
     "metadata": {},
     "output_type": "execute_result"
    }
   ],
   "source": [
    "node_label('SRN', 'SRN')"
   ]
  },
  {
   "cell_type": "code",
   "execution_count": 41,
   "metadata": {},
   "outputs": [
    {
     "name": "stdout",
     "output_type": "stream",
     "text": [
      "['SRN', 'SDM', 'Shop Display', 'Basic Shop Display', 'Complex Shop Display', 'Shop Display Identifier', 'Shop Display Supplier', 'Point of Purchase', 'Field Merchandiser', 'POP Personnel', 'Key Account', 'POP Data', 'Report', 'Analyst', 'Administrator']\n"
     ]
    },
    {
     "ename": "NameError",
     "evalue": "name 'x_label' is not defined",
     "output_type": "error",
     "traceback": [
      "\u001b[0;31m---------------------------------------------------------------------------\u001b[0m",
      "\u001b[0;31mNameError\u001b[0m                                 Traceback (most recent call last)",
      "\u001b[0;32m<ipython-input-41-730568091958>\u001b[0m in \u001b[0;36m<module>\u001b[0;34m()\u001b[0m\n\u001b[1;32m      1\u001b[0m \u001b[0mprint\u001b[0m\u001b[0;34m(\u001b[0m\u001b[0mt_n\u001b[0m\u001b[0;34m.\u001b[0m\u001b[0mnodes\u001b[0m\u001b[0;34m(\u001b[0m\u001b[0;34m)\u001b[0m\u001b[0;34m)\u001b[0m\u001b[0;34m\u001b[0m\u001b[0m\n\u001b[0;32m----> 2\u001b[0;31m \u001b[0mprint\u001b[0m\u001b[0;34m(\u001b[0m\u001b[0mnx\u001b[0m\u001b[0;34m.\u001b[0m\u001b[0mget_node_attributes\u001b[0m\u001b[0;34m(\u001b[0m\u001b[0mt_n\u001b[0m\u001b[0;34m,\u001b[0m \u001b[0mx_label\u001b[0m\u001b[0;34m)\u001b[0m\u001b[0;34m)\u001b[0m\u001b[0;34m\u001b[0m\u001b[0m\n\u001b[0m",
      "\u001b[0;31mNameError\u001b[0m: name 'x_label' is not defined"
     ]
    }
   ],
   "source": [
    "print(t_n.nodes())\n",
    "print(nx.get_node_attributes(t_n, x_label))"
   ]
  },
  {
   "cell_type": "code",
   "execution_count": null,
   "metadata": {},
   "outputs": [],
   "source": [
    "# Needed to make clean_raw_definitions a deep copy of raw_definitions\n",
    "import copy\n",
    "from copy import deepcopy\n",
    "clean_raw_definitions = copy.deepcopy(raw_definitions)\n",
    "for i in range(0, len(clean_raw_definitions)): clean_raw_definitions[i]['definiens'] = list()\n",
    "\n",
    "# Make a list of filtered high wordcount words.\n",
    "words_in_filtered_high_wordcount = list()\n",
    "words_in_filtered_high_wordcount = [w for w, c in filtered_high_wordcount]\n",
    "\n",
    "# Populate clean_raw_definitions\n",
    "for i in range(0, len(raw_definitions)):\n",
    "    for word in raw_definitions[i]['definiens'].lower().split():\n",
    "        word = word.replace(\".\",\"\")\n",
    "        word = word.replace(\",\",\"\")\n",
    "        word = word.replace(\":\",\"\")\n",
    "        word = word.replace(\"\\\"\",\"\")\n",
    "        word = word.replace(\"!\",\"\")\n",
    "        word = word.replace(\"â€œ\",\"\")\n",
    "        word = word.replace(\"â€˜\",\"\")\n",
    "        word = word.replace(\"*\",\"\")\n",
    "        word = word.replace(\"(\",\"\")\n",
    "        word = word.replace(\")\",\"\")\n",
    "        word = word.replace(\"/\",\"\")\n",
    "        word = word.replace(\"-\",\"\")\n",
    "        if word not in stopwords:\n",
    "            if word in words_in_filtered_high_wordcount:\n",
    "                clean_raw_definitions[i]['definiens'].append(word)"
   ]
  }
 ],
 "metadata": {
  "kernelspec": {
   "display_name": "Python 3",
   "language": "python",
   "name": "python3"
  },
  "language_info": {
   "codemirror_mode": {
    "name": "ipython",
    "version": 3
   },
   "file_extension": ".py",
   "mimetype": "text/x-python",
   "name": "python",
   "nbconvert_exporter": "python",
   "pygments_lexer": "ipython3",
   "version": "3.6.5"
  }
 },
 "nbformat": 4,
 "nbformat_minor": 2
}
