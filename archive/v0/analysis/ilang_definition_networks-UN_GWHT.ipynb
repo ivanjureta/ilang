{
 "cells": [
  {
   "cell_type": "code",
   "execution_count": 1,
   "metadata": {},
   "outputs": [],
   "source": [
    "import ilang_fs as il"
   ]
  },
  {
   "cell_type": "code",
   "execution_count": 5,
   "metadata": {},
   "outputs": [],
   "source": [
    "il.setup_project('UN_GWHT', True)"
   ]
  },
  {
   "cell_type": "code",
   "execution_count": 6,
   "metadata": {},
   "outputs": [],
   "source": [
    "data = il.raw_data_from_CSV('raw_data/ilang_UN_GWHT_data.csv', ',')"
   ]
  },
  {
   "cell_type": "code",
   "execution_count": 7,
   "metadata": {},
   "outputs": [],
   "source": [
    "structured_data = il.structure_raw_data(data)"
   ]
  },
  {
   "cell_type": "code",
   "execution_count": 8,
   "metadata": {},
   "outputs": [],
   "source": [
    "definition_network = il.make_rel_net(structured_data, 'Definiens', 'Definiendum')"
   ]
  },
  {
   "cell_type": "code",
   "execution_count": 9,
   "metadata": {},
   "outputs": [],
   "source": [
    "# Print data to text files.\n",
    "il.print_to_txt(data, 'UN_GWHT', 'data', save_to_project_dir = True)\n",
    "il.print_to_txt(structured_data, 'UN_GWHT', 'structured_data', save_to_project_dir = True)\n",
    "il.print_to_txt(definition_network.nodes(), 'UN_GWHT', 'definition_network_nodes', save_to_project_dir = True)\n",
    "il.print_to_txt(definition_network.edges(), 'UN_GWHT', 'definition_network_edges', save_to_project_dir = True)"
   ]
  },
  {
   "cell_type": "code",
   "execution_count": 10,
   "metadata": {},
   "outputs": [
    {
     "name": "stdout",
     "output_type": "stream",
     "text": [
      "| Definiendum                 | Defined by                                                                    |\n",
      "|:----------------------------|:------------------------------------------------------------------------------|\n",
      "| Action Plan for the Futu... | The Action Plan for the Future (Cultural Landscapes) was prepared by the U... |\n",
      "| Advisory bodies             | Article 8(3) of the World Heritage Convention establishes the Internationa... |\n",
      "| Assistance                  | see International assistance, Preparatory assistance, Emergency assistance... |\n",
      "| Associative cultural lan... | Associative cultural landscape is one of the three main categories of cult... |\n",
      "| Authenticity                | Paragraph 24 of the Operational Guidelines requires that a cultural proper... |\n",
      "| Authorization form          | An authorization form is included as part of the nomination form. On compl... |\n",
      "| Balance                     | Balance is first referred to in Paragraph 6(iii) of the Operational Guidel... |\n",
      "| Biogeographic(al) provin... | In the Operational Guidelines, biogeographic(al) provinces are suggested a... |\n",
      "| Buffer zone                 | Paragraph 17 of the Operational Guidelines defines a buffer zone as: ... a... |\n",
      "| Bureau                      | see World Heritage Bureau                                                     |\n",
      "| Canal                       | In September 1994 a meeting on \"Heritage Canals\" was held at Chaffeys Lock... |\n",
      "| Centre                      | see UNESCO World Heritage Centre, Secretariat                                 |\n",
      "| Clearly defined landscap... | Clearly defined landscape Clearly defined landscape is one of the three ma... |\n",
      "| CNPPA                       | The CNPPA (Commission on National Parks and Protected Areas) is one of the... |\n",
      "| Commission on National P... | see CNPPA                                                                     |\n",
      "| Committee                   | see World Heritage Committee                                                  |\n",
      "| Comparative assessments     | In stating that properties included in the World Heritage List should be c... |\n",
      "| Comparative evaluations     | Paragraph 12 of the Operational Guidelines refers to the requirement when ... |\n",
      "| Conditions of authentici... | see Authenticity                                                              |\n",
      "| Conservation                | The World Heritage Convention does not specifically define conservation. T... |\n",
      "| Convention                  | see Convention concerning the protection of the world cultural and natural... |\n",
      "| Convention concerning th... | The Convention concerning the protection of the world cultural and natural... |\n",
      "| Convention for the prote... | see Convention concerning the protection of the world cultural and natural... |\n",
      "| Corrective measures         | Corrective measures are referred to in Paragraphs 22, 46, 47, 82 and 83 of... |\n",
      "| Criteria                    | Paragraphs 2 and 5 of Article 11 of the Convention refer to the definition... |\n",
      "| Criterion                   | The singular for criteria. see Criteria                                       |\n",
      "| Cultural heritage           | Cultural heritage is defined in Article 1 of the Convention as shown below... |\n",
      "| Cultural heritage criter... | A cultural property may be inscribed in the World Heritage List if it meet... |\n",
      "| Cultural landscapes         | At its sixteenth session in December 1992 the World Heritage Committee ado... |\n",
      "| Cultural property           | Properties inscribed in the World Heritage List after having met at least ... |\n",
      "| Data sheets                 | Standardised data sheets for each natural property nomination are prepared... |\n",
      "| Deferral                    | see Deferred                                                                  |\n",
      "| Deferred                    | When the Bureau and Committee examine nominations of properties for inclus... |\n",
      "| Deletion                    | Deletion of a property from the World Heritage List refers to the same pro... |\n",
      "| Delisting                   | Delisting a property from the World Heritage List refers to the same proce... |\n",
      "| Designed landscape          | see Clearly defined landscape                                                 |\n",
      "| Emblem                      | see World Heritage emblem                                                     |\n",
      "| Emergency assistance        | Emergency assistance is one of the types of international assistance avail... |\n",
      "| Evaluation                  | Section F of the Operational Guidelines establishes \"Guidelines for the ev... |\n",
      "| Fossil landscape            | see Relict (or fossil) landscape                                              |\n",
      "| Fund                        | see World Heritage Fund                                                       |\n",
      "| Fund for the Protection ... | see World Heritage Fund                                                       |\n",
      "| Geological and physiogra... | Geological and physiographical formations are referred to as part of the d... |\n",
      "| General Assembly of Stat... | The General Assembly of States Parties to the Convention meets during the ... |\n",
      "| Global Strategy for the ... | see Global Strategy                                                           |\n",
      "| Global Strategy             | The Global Strategy is a conceptual framework devised to ensure the repres... |\n",
      "| Groups of buildings         | Groups of buildings are referred to as part of the definition of cultural ... |\n",
      "| Groups of urban building... | The World Heritage Committee has adopted guidelines concerning the inclusi... |\n",
      "| Guidelines                  | see Operational Guidelines for the Implementation of the World Heritage Co... |\n",
      "| Harmonization               | To ensure the careful selection of properties for inclusion in the World H... |\n",
      "| Heritage route              | In November 1994 a meeting on \"Routes as Part of Our Cultural Heritage\" wa... |\n",
      "| Historic towns              | see Groups of urban buildings, Inhabited historic towns                       |\n",
      "| International Centre for... | ICCROM was created by UNESCO in 1956. ICCROM was formerly known as the Rom... |\n",
      "| International Council of... | Article 8 (3) of the Convention requires that a representative of ICOMOS a... |\n",
      "| ICOMOS evaluation           | The evaluation procedures used by ICOMOS for cultural property nominations... |\n",
      "| Identification              | The World Heritage Convention does not specifically define identification.... |\n",
      "| Identification number       | The identification number, abbreviated to ID No, is an accession number gi... |\n",
      "| ID No                       | see Identification number                                                     |\n",
      "| Implementation              | Implementation refers to the act of putting the Convention into practice.     |\n",
      "| Immovable property          | Immovable property is property that cannot easily be moved. The opposite o... |\n",
      "| Indicative list             | The term indicative list is sometimes used to refer to the inventory of pr... |\n",
      "| Information sources         | The Nara Document on Authenticity defines information sources as: Informat... |\n",
      "| Inhabited historic towns... | Paragraph 29 of the Operational Guidelines provides some definition of inh... |\n",
      "| Inscription                 | Inscription refers to the act of including or inscribing a property in the... |\n",
      "| Integrity                   | Also known as Conditions of integrity. The concept of integrity is not ref... |\n",
      "| Intergovernmental Commit... | see World Heritage Committee                                                  |\n",
      "| International assistance... | The granting of collective assistance, such as international assistance, t... |\n",
      "| International Centre for... | see ICCROM                                                                    |\n",
      "| International Council of... | see ICOMOS                                                                    |\n",
      "| International Union for ... | [now the World Conservation Union] see IUCN                                   |\n",
      "| International protection... | Article 7 of the Convention provides some definition of the concept of int... |\n",
      "| Inventory of property       | Article 11(1) of the Convention establishes the requirement for States Par... |\n",
      "| IUCN - The World Conserv... | Founded in 1948, the IUCN - The World Conservation Union brings together S... |\n",
      "| IUCN evaluation             | The evaluation procedures used by IUCN for natural property nominations ar... |\n",
      "| Itineraries                 | see Heritage route                                                            |\n",
      "| Joint nomination            | Paragraphs 16 and 20 of the Operational Guidelines make reference to the s... |\n",
      "| Justification               | Section G of the Operational Guidelines entitled \"Format and content of no... |\n",
      "| List                        | see List of World Heritage in Danger, World Heritage List                     |\n",
      "| List of World Heritage i... | The List of World Heritage in Danger is clearly defined in Article 11 (4) ... |\n",
      "| Management                  | Paragraph 63 of the Operational Guidelines clearly states that the charact... |\n",
      "| Management plan             | States Parties to the Convention are encouraged to prepare management plan... |\n",
      "| Mixed property              | 17 properties are currently included in the World Heritage List on the bas... |\n",
      "| Mixed site                  | One of the essential functions of the World Heritage Committee is to monit... |\n",
      "| Monuments                   | Monuments are referred to as part of the definition of cultural heritage i... |\n",
      "| Movable property            | Movable property is property that can easily be moved from one location to... |\n",
      "| Nara Conference on Authe... | see Authenticity                                                              |\n",
      "| Nara Document on Authent... | see Authenticity                                                              |\n",
      "| National protection         | The Convention refers to national \"identification, protection, conservatio... |\n",
      "| Natural                     | see Natural area                                                              |\n",
      "| Natural area                | The \"Report of the Expert Meeting on Evaluation of general principles and ... |\n",
      "| Natural features            | Natural features are referred to as part of the definition of natural heri... |\n",
      "| Natural heritage            | Natural heritage is defined in Article 2 of the Convention as shown below:... |\n",
      "| Natural heritage criteri... | A natural property may be inscribed in the World Heritage List if it meets... |\n",
      "| Natural property            | Properties inscribed in the World Heritage List after having met at least ... |\n",
      "| Natural sites               | Natural sites are referred to as part of the definition of natural heritag... |\n",
      "| Nomination                  | The process whereby a States Party, or States Parties, to the Convention s... |\n",
      "| Nomination form             | The application form to be used by States Parties when nominating properti... |\n",
      "| Operational Guidelines      | see Operational Guidelines for the Implementation of the World Heritage Co... |\n",
      "| Operational Guidelines f... | The Operational Guidelines for the Implementation of the World Heritage Co... |\n",
      "| Organically evolved land... | Organically evolved landscape is one of the three main categories of cultu... |\n",
      "| Organization of World He... | The Organization of World Heritage Cities (OWHC) was established in 1993 t... |\n",
      "| Outstanding universal va... | Outstanding universal value is referred to in several places in the Conven... |\n",
      "| OWHC                        | see Organization of World Heritage Cities                                     |\n",
      "| Precisely delineated [na... | Precisely delineated [natural] areas are referred to as part of the defini... |\n",
      "| Preparatory assistance      | Preparatory assistance is one of the types of international assistance ava... |\n",
      "| Presentation                | The World Heritage Convention does not specifically define presentation. T... |\n",
      "| Preservation                | The World Heritage Convention and the Operational Guidelines do not specif... |\n",
      "| Promotional activities      | Promotional activities relating to World Heritage conservation may include... |\n",
      "| Property                    | The World Heritage Convention refers to properties as being component part... |\n",
      "| Protection                  | The World Heritage Convention does not specifically define protection. Thr... |\n",
      "| Reactive monitoring         | One of the essential functions of the World Heritage Committee is to monit... |\n",
      "| Referral                    | When examining nominations the Bureau may decide to recommend to the Commi... |\n",
      "| Rehabilitation              | The World Heritage Convention does not specifically define rehabilitation.... |\n",
      "| Renomination                | Renomination is not referred to specifically in the Convention or the Oper... |\n",
      "| Reporting                   | see Monitoring, Reactive monitoring, Systematic monitoring and reporting      |\n",
      "| Rome Centre                 | see (ICCROM) International Centre for the Study of the Preservation and Re... |\n",
      "| Routes                      | see Heritage route                                                            |\n",
      "| Rules of Procedure          | In complying with Article 10 (1) of the Convention the World Heritage Comm... |\n",
      "| Safeguarding                | Safeguarding is used interchangeably with conservation, preservation and p... |\n",
      "| Secretariat                 | Article 14 of the Convention notes that the World Heritage Committee \"shal... |\n",
      "| Series                      | A series of cultural or natural properties situated in different geographi... |\n",
      "| Serial nomination           | see Serial property, series                                                   |\n",
      "| Serial property             | A serial property is a property nominated and/or inscribed in the World He... |\n",
      "| Serial site                 | see Serial property, Series                                                   |\n",
      "| Sites                       | Sites are referred to as part of the definition of cultural heritage in Ar... |\n",
      "| Spirit of the Convention... | The term spirit of the Convention refers to the special qualities of the C... |\n",
      "| State of conservation       | State of conservation reports for natural and cultural properties included... |\n",
      "| States Parties              | States Parties are those Member States of UNESCO who have ratified, accept... |\n",
      "| Systematic monitoring an... | One of the essential functions of the World Heritage Committee is to monit... |\n",
      "| Technical evaluations       | see Evaluation, ICOMOS evaluation, IUCN evaluation                            |\n",
      "| Technical co-operation      | Article 22 of the Convention establishes the provision of assistance for t... |\n",
      "| Tentative list              | Article 11 of the Convention establishes the requirement for States Partie... |\n",
      "| Test of authenticity        | see Authenticity                                                              |\n",
      "| Thematic studies            | Thematic and regional studies of cultural and natural heritage are importa... |\n",
      "| Timetable                   | The procedure and timetable for the processing of nominations (including d... |\n",
      "| Towns                       | see Groups of urban buildings, Inhabited historic towns                       |\n",
      "| Training                    | Articles 22(c) and 23 of the World Heritage Convention provide for interna... |\n",
      "| Transmission                | The World Heritage Convention and the Operational Guidelines do not specif... |\n",
      "| UNESCO                      | see United Nations Educational, Scientific and Cultural Organization          |\n",
      "| United Nations Education... | The Constitution of UNESCO (the United Nations Educational, Scientific and... |\n",
      "| UNESCO World Heritage Ce... | see Secretariat                                                               |\n",
      "| World Conservation Monit... | The WCMC (World Conservation Monitoring Centre) is an independent charity ... |\n",
      "| World Conservation Union... | see IUCN (International Union for the Conservation of Nature) - The World ... |\n",
      "| World Heritage              | World Heritage may best be defined with reference to the Preamble to the W... |\n",
      "| World Heritage Bureau       | Of the 21 States Parties who are members of the World Heritage Committee, ... |\n",
      "| World Heritage Centre       | see Secretariat                                                               |\n",
      "| World Heritage Committee... | 21 States Parties to the World Heritage Convention make up the World Herit... |\n",
      "| World Heritage Conventio... | see Convention concerning the protection of the world cultural and natural... |\n",
      "| World Heritage Education... | see World Heritage Youth Forum/Fora, Young People's Participation in World... |\n",
      "| World Heritage emblem       | The World Heritage emblem was designed by Mr Michel Olyff and adopted by t... |\n",
      "| World Heritage Fund         | The World Heritage Fund was established according to Article 15 of the Wor... |\n",
      "| World Heritage List         | Article 11 (2) of the Convention refers to the World Heritage List as: ...... |\n",
      "| World Heritage logo         | see World Heritage emblem                                                     |\n",
      "| World Heritage value        | see Outstanding universal value                                               |\n",
      "| World Heritage Youth For... | World Heritage Youth Fora are part of the Young People's Participation in ... |\n",
      "| World Heritage Youth Pro... | see World Heritage Youth Forum/Fora, Young People's Participation in World... |\n",
      "| Young People's Participa... | The Young People's Participation in World Heritage Preservation and Promot... |\n",
      "| Youth Forum                 | see World Heritage Youth Forum/Fora, Young People's Participation in World... |\n",
      "| Youth Project               | see World Heritage Youth Forum/Fora, Young People's Participation in World... |\n"
     ]
    }
   ],
   "source": [
    "il.tabulate_all_relationship_instances(structured_data, 'Definiendum', 'Definiens', 'Definiendum', 'Defined by')"
   ]
  },
  {
   "cell_type": "code",
   "execution_count": 7,
   "metadata": {},
   "outputs": [],
   "source": [
    "# Plot the Definition Network.\n",
    "node_positions = il.pos_by_in_degrees(definition_network)\n",
    "node_label_positions = il.offset_node_labels(node_positions, 0, 5)\n",
    "node_label_content = il.format_node_labels(definition_network, structured_data, 'full_name', 30, 55)\n",
    "colors = il.make_color_list(1)\n",
    "colored_nodes = il.color_nodes(definition_network, colors, '#FFFFFF')\n",
    "colored_edges = il.color_edge_by_target_node(definition_network, colored_nodes)\n",
    "edge_label_content = dict()\n",
    "for e in definition_network.edges(): edge_label_content[e] = 'defines'\n",
    "# Plot low-res figure\n",
    "figure = il.draw_rel_net(graph = definition_network, node_positions = node_positions, node_labels = node_label_content, node_label_positions = node_label_positions, node_colors = colored_nodes, edge_labels = edge_label_content, edge_colors = colored_edges, fig_w = 20, fig_h = 100, dpi_val = 90, fig_margin = 0.15, save_to_project_dir = True, image_description = 'definition_network')\n",
    "# Plot hi-def figure.\n",
    "# figure = il.draw_rel_net(graph = definition_network, node_positions = node_positions, node_labels = node_label_content, node_label_positions = node_label_positions, node_colors = colored_nodes, edge_labels = edge_label_content, edge_colors = colored_edges, fig_w = 10, fig_h = 10, dpi_val = 300, fig_margin = 0.15, save_to_project_dir = True, image_description = 'definition_network')"
   ]
  },
  {
   "cell_type": "code",
   "execution_count": 60,
   "metadata": {},
   "outputs": [
    {
     "data": {
      "text/plain": [
       "{'uid': 'n_1',\n",
       " 'nickname': 'Action Plan for...',\n",
       " 'full_name': 'Action Plan for the Future',\n",
       " 'instance_of': 'Definiendum',\n",
       " 'relationships': {('Definiendum',\n",
       "   'Short Definiendum'): ('Action Plan for the Future', 'Action Plan'),\n",
       "  ('Definiendum', 'Definiens'): ('Action Plan for the Future',\n",
       "   'The Action Plan for the Future (Cultural Landscapes)\\n        was prepared by the UNESCO \"Expert Meeting on\\n        Cultural Landscapes of Outstanding Universal Value\" held in\\n        Templin, Germany in October 1993 (see von Droste et al\\n        1995: Annex 1).  The Action Plan outlines\\n        recommendations concerning the provision of \"Guidance to\\n        States Parties on the Identification, Assessment, Nomination\\n        and Management of Cultural Landscapes for Inclusion in the\\n        World Heritage List\" and on the preparation of a \"Thematic\\n        Study on Cultural Landscapes\".  The Action Plan was\\n        adopted by the World Heritage Committee at its\\n        seventeenth session in 1993 (UNESCO 4 February 1994:\\n        55-56 and Annex VII).\\n\\nsee Cultural landscapes')}}"
      ]
     },
     "execution_count": 60,
     "metadata": {},
     "output_type": "execute_result"
    }
   ],
   "source": [
    "structured_data['n_1']"
   ]
  },
  {
   "cell_type": "code",
   "execution_count": 65,
   "metadata": {},
   "outputs": [
    {
     "name": "stdout",
     "output_type": "stream",
     "text": [
      "International Council of Monuments and Sites 2\n"
     ]
    }
   ],
   "source": [
    "for n in definition_network.nodes():\n",
    "    if definition_network.in_degree()[n] > 1: print(n, definition_network.in_degree()[n])"
   ]
  },
  {
   "cell_type": "code",
   "execution_count": 95,
   "metadata": {},
   "outputs": [],
   "source": [
    "# Print a table of nodes, by out degrees higher than threshold.\n",
    "def tabulate_out_degrees(graph, out_degree_threshold, first_column_title, second_column_title):\n",
    "    out_degrees_table = list()\n",
    "    for n in graph.nodes():\n",
    "        if graph.out_degree()[n] > out_degree_threshold: \n",
    "            out_degrees_table.append((n, graph.out_degree()[n]))\n",
    "    out_degrees_table.sort()\n",
    "    from tabulate import tabulate\n",
    "    print(tabulate(out_degrees_table, headers = [first_column_title, second_column_title], tablefmt=\"pipe\"))"
   ]
  },
  {
   "cell_type": "code",
   "execution_count": 98,
   "metadata": {},
   "outputs": [
    {
     "name": "stdout",
     "output_type": "stream",
     "text": [
      "| Definiens                                                      |   Defines |\n",
      "|:---------------------------------------------------------------|----------:|\n",
      "| see Authenticity                                               |         4 |\n",
      "| see Convention concerning the protection of the world cultural |         3 |\n",
      "| and natural heritage                                           |           |\n",
      "| see Groups of urban buildings, Inhabited historic              |         2 |\n",
      "| towns                                                          |           |\n",
      "| see Heritage route                                             |         2 |\n",
      "| see Operational Guidelines for the Implementation of the World |         2 |\n",
      "| Heritage Convention                                            |           |\n",
      "| see Secretariat                                                |         2 |\n",
      "| see World Heritage Committee                                   |         2 |\n",
      "| see World Heritage Fund                                        |         2 |\n",
      "| see World Heritage Youth Forum/Fora, Young People's            |         2 |\n",
      "| Participation in World Heritage Preservation and Promotion     |           |\n",
      "| see World Heritage emblem                                      |         2 |\n"
     ]
    }
   ],
   "source": [
    "tabulate_out_degrees(definition_network, 1, 'Definiens', 'Defines')"
   ]
  },
  {
   "cell_type": "code",
   "execution_count": 99,
   "metadata": {},
   "outputs": [],
   "source": [
    "def tabulate_in_degrees(graph, in_degree_threshold, first_column_title, second_column_title):\n",
    "    in_degrees_table = list()\n",
    "    for n in graph.nodes():\n",
    "        if graph.in_degree()[n] > in_degree_threshold: \n",
    "            in_degrees_table.append((n, graph.in_degree()[n]))\n",
    "    in_degrees_table.sort()\n",
    "    from tabulate import tabulate\n",
    "    print(tabulate(in_degrees_table, headers = [first_column_title, second_column_title], tablefmt=\"pipe\"))"
   ]
  },
  {
   "cell_type": "code",
   "execution_count": 100,
   "metadata": {},
   "outputs": [
    {
     "name": "stdout",
     "output_type": "stream",
     "text": [
      "| Definiendum                                  |   Defined by |\n",
      "|:---------------------------------------------|-------------:|\n",
      "| International Council of Monuments and Sites |            2 |\n"
     ]
    }
   ],
   "source": [
    "tabulate_in_degrees(definition_network, 1, 'Definiendum', 'Defined by')"
   ]
  },
  {
   "cell_type": "code",
   "execution_count": 108,
   "metadata": {},
   "outputs": [
    {
     "name": "stdout",
     "output_type": "stream",
     "text": [
      "('see Authenticity', 'Conditions of authenticity')\n",
      "('see Authenticity', 'Nara Conference on Authenticity in Relation to the World Heritage Convention')\n",
      "('see Authenticity', 'Nara Document on Authenticity')\n",
      "('see Authenticity', 'Test of authenticity')\n"
     ]
    }
   ],
   "source": [
    "for n in structured_data:\n",
    "    if structured_data[n]['full_name'] == 'see Authenticity': print(structured_data[n]['relationships']['Definiens', 'Definiendum'])"
   ]
  },
  {
   "cell_type": "code",
   "execution_count": 118,
   "metadata": {},
   "outputs": [],
   "source": [
    "# Return all relationships from strucured data, where the matching_attribute is equal to the matching_value.\n",
    "def return_matching_relationship_instances(structured_data, matching_attribute, matching_value, rel_from, rel_to, first_column_title, second_column_title):\n",
    "    output_table = list()\n",
    "    for n in structured_data:\n",
    "        if structured_data[n][matching_attribute] == matching_value:\n",
    "            output_table.append(structured_data[n]['relationships'][rel_from, rel_to])\n",
    "    from tabulate import tabulate\n",
    "    print(tabulate(output_table, headers = [first_column_title, second_column_title], tablefmt=\"pipe\"))"
   ]
  },
  {
   "cell_type": "code",
   "execution_count": 119,
   "metadata": {},
   "outputs": [
    {
     "name": "stdout",
     "output_type": "stream",
     "text": [
      "| Definiens        | Defines                                                                      |\n",
      "|:-----------------|:-----------------------------------------------------------------------------|\n",
      "| see Authenticity | Conditions of authenticity                                                   |\n",
      "| see Authenticity | Nara Conference on Authenticity in Relation to the World Heritage Convention |\n",
      "| see Authenticity | Nara Document on Authenticity                                                |\n",
      "| see Authenticity | Test of authenticity                                                         |\n"
     ]
    }
   ],
   "source": [
    "return_matching_relationship_instances(structured_data, 'full_name', 'see Authenticity', 'Definiens', 'Definiendum', 'Definiens', 'Defines')"
   ]
  },
  {
   "cell_type": "code",
   "execution_count": 120,
   "metadata": {},
   "outputs": [
    {
     "name": "stdout",
     "output_type": "stream",
     "text": [
      "| Definiens                                                      | Defines                                                                  |\n",
      "|:---------------------------------------------------------------|:-------------------------------------------------------------------------|\n",
      "| see Convention concerning the protection of the world cultural | Convention                                                               |\n",
      "| and natural heritage                                           |                                                                          |\n",
      "| see Convention concerning the protection of the world cultural | Convention for the protection of the world cultural and natural heritage |\n",
      "| and natural heritage                                           |                                                                          |\n",
      "| see Convention concerning the protection of the world cultural | World Heritage Convention                                                |\n",
      "| and natural heritage                                           |                                                                          |\n"
     ]
    }
   ],
   "source": [
    "return_matching_relationship_instances(structured_data, 'full_name', 'see Convention concerning the protection of the world cultural\\nand natural heritage', 'Definiens', 'Definiendum', 'Definiens', 'Defines')"
   ]
  },
  {
   "cell_type": "code",
   "execution_count": 14,
   "metadata": {},
   "outputs": [
    {
     "data": {
      "text/plain": [
       "' Paragraph 24 of the Operational Guidelines requires that a cultural property nominated for inclusion in the World Heritage List be considered for inclusion only if it meets one or more of the cultural heritage criteria and the test of authenticity. Paragraph 24 (b) (i) of the Operational Guidelines as reproduced below refers to the test of authenticity. 24. ... (b) (i) meet the test of authenticity in design, material, workmanship or setting and in the case of cultural landscapes their distinctive character and components (the Committee stressed the reconstruction is only acceptable if it is carried out on the basis of complete and detailed documentation on the original and to no extent on conjecture) (UNESCO February 1996: 7). The text concerning groups of urban buildings included in the Operational Guidelines also refers to the need to meet the test of authenticity (UNESCO February 1996: 8, Paragraph 27). Paragraphs 57 and 58 of the Operational Guidelines state that cultural properties nominated for inclusion in the World Heritage List should satisfy the conditions of authenticity and that the determination as to whether these conditions are met will be carried out by ICOMOS (UNESCO February 1996: 18). Paragraph 64 (e) of the Operational Guidelines states that \"indications as to the authenticity of the property\" should be included in the completed nomination form under the heading of \"Justification for inclusion in the World Heritage List\" (UNESCO February 1996: 20). Paragraphs 64 (f) (iv) and 78 of the Operational Guidelines refer to the undefined concept of \"historical authenticity\" (UNESCO February 1996: 20 and 28). It is generally acknowledged that the concept of authenticity is a vague one and may be subject to different cultural and social interpretations. Authenticity and its application in relation to the World Heritage Convention was the subject of a conference held in Nara, Japan in November 1994 (Nara Conference on Authenticity in Relation to the World Heritage Convention). A preparatory workshop was held in Bergen in Norway from 31 January to 2 February 1994. The proceedings of the preliminary workshop are published in Larson and Marstein (1994). The Nara Conference resulted in the adoption of a declaration known as The Nara Document on Authenticity. The proceedings of the Nara Conference and the Nara Document on Authenticity are published in Larson (1995). In March 1996 an Inter-American Symposium on Authenticity in the Conservation and Management of Cultural Heritage was held in San Antonio Texas, U.S.A. The Symposium was co-sponsored by US/ICOMOS, the Getty Cosnervation Institute and the San Antonio Conservation Society. see Conservation, Information sources'"
      ]
     },
     "execution_count": 14,
     "metadata": {},
     "output_type": "execute_result"
    }
   ],
   "source": [
    "il.remove_line_breaks(structured_data['n_13']['relationships']['Definiendum', 'Definiens'][1])"
   ]
  },
  {
   "cell_type": "code",
   "execution_count": null,
   "metadata": {},
   "outputs": [],
   "source": []
  }
 ],
 "metadata": {
  "kernelspec": {
   "display_name": "Python 3",
   "language": "python",
   "name": "python3"
  },
  "language_info": {
   "codemirror_mode": {
    "name": "ipython",
    "version": 3
   },
   "file_extension": ".py",
   "mimetype": "text/x-python",
   "name": "python",
   "nbconvert_exporter": "python",
   "pygments_lexer": "ipython3",
   "version": "3.6.5"
  }
 },
 "nbformat": 4,
 "nbformat_minor": 2
}
