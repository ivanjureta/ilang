{
 "cells": [
  {
   "cell_type": "code",
   "execution_count": 7,
   "metadata": {},
   "outputs": [],
   "source": [
    "import csv\n",
    "from igraph import *\n",
    "\n",
    "terms = []\n",
    "descriptions = []"
   ]
  },
  {
   "cell_type": "code",
   "execution_count": 8,
   "metadata": {},
   "outputs": [],
   "source": [
    "with open('data.csv') as f:\n",
    "    r = csv.reader(f)\n",
    "    for row in r:\n",
    "        # we read each line, and place values in two arrays - terms and descriptions\n",
    "        terms.append(row[0])\n",
    "        descriptions.append(row[1])\n"
   ]
  },
  {
   "cell_type": "code",
   "execution_count": 9,
   "metadata": {},
   "outputs": [
    {
     "name": "stdout",
     "output_type": "stream",
     "text": [
      "[(3, 0), (4, 1), (5, 2)]\n"
     ]
    }
   ],
   "source": [
    "# this size of dataset\n",
    "size = len(terms)\n",
    "# creating edges - description are pointing to terms\n",
    "edges = [(size + i, i) for i in xrange(size)]\n",
    "print(edges)"
   ]
  },
  {
   "cell_type": "markdown",
   "metadata": {},
   "source": []
  },
  {
   "cell_type": "code",
   "execution_count": 10,
   "metadata": {},
   "outputs": [],
   "source": [
    "g = Graph(edges, directed=True)\n",
    "g.vs['text'] = descriptions + terms\n",
    "g.es['type'] = 'defines'"
   ]
  },
  {
   "cell_type": "code",
   "execution_count": 11,
   "metadata": {},
   "outputs": [],
   "source": [
    "# naive search through descriptions to establish connections with dpeneding terms\n",
    "for x, d in enumerate(descriptions):\n",
    "    for y, t in enumerate(terms):\n",
    "        # super naive check, as it will pick any match \n",
    "        if t in d:\n",
    "            g.add_edge(size + x, y, type='depends')\n"
   ]
  },
  {
   "cell_type": "code",
   "execution_count": 12,
   "metadata": {},
   "outputs": [
    {
     "data": {
      "image/svg+xml": [
       "<?xml version=\"1.0\" encoding=\"UTF-8\"?>\n",
       "<svg xmlns=\"http://www.w3.org/2000/svg\" xmlns:xlink=\"http://www.w3.org/1999/xlink\" width=\"600pt\" height=\"600pt\" viewBox=\"0 0 600 600\" version=\"1.1\">\n",
       "<g id=\"surface8\">\n",
       "<rect x=\"0\" y=\"0\" width=\"600\" height=\"600\" style=\"fill:rgb(100%,100%,100%);fill-opacity:1;stroke:none;\"/>\n",
       "<path style=\"fill:none;stroke-width:1;stroke-linecap:butt;stroke-linejoin:miter;stroke:rgb(26.666667%,26.666667%,26.666667%);stroke-opacity:1;stroke-miterlimit:10;\" d=\"M 580 522.710938 C 493.859375 468.574219 460.507812 391.179688 492.566406 294.722656 \"/>\n",
       "<path style=\" stroke:none;fill-rule:nonzero;fill:rgb(26.666667%,26.666667%,26.666667%);fill-opacity:1;\" d=\"M 497.066406 281.1875 L 496.964844 296.1875 L 488.167969 293.261719 L 497.066406 281.1875 \"/>\n",
       "<path style=\"fill:none;stroke-width:1;stroke-linecap:butt;stroke-linejoin:miter;stroke:rgb(26.666667%,26.666667%,26.666667%);stroke-opacity:1;stroke-miterlimit:10;\" d=\"M 96.699219 330.640625 C 186.234375 381.171875 223.554688 457.683594 195.84375 556.589844 \"/>\n",
       "<path style=\" stroke:none;fill-rule:nonzero;fill:rgb(26.666667%,26.666667%,26.666667%);fill-opacity:1;\" d=\"M 191.996094 570.328125 L 191.378906 555.339844 L 200.308594 557.839844 L 191.996094 570.328125 \"/>\n",
       "<path style=\"fill:none;stroke-width:1;stroke-linecap:butt;stroke-linejoin:miter;stroke:rgb(26.666667%,26.666667%,26.666667%);stroke-opacity:1;stroke-miterlimit:10;\" d=\"M 408.269531 20 L 43.996094 74.789062 \"/>\n",
       "<path style=\" stroke:none;fill-rule:nonzero;fill:rgb(26.666667%,26.666667%,26.666667%);fill-opacity:1;\" d=\"M 29.890625 76.910156 L 43.304688 70.203125 L 44.683594 79.371094 L 29.890625 76.910156 \"/>\n",
       "<path style=\"fill:none;stroke-width:1;stroke-linecap:butt;stroke-linejoin:miter;stroke:rgb(26.666667%,26.666667%,26.666667%);stroke-opacity:1;stroke-miterlimit:10;\" d=\"M 580 522.710938 C 619.097656 428.78125 601.664062 346.332031 519.8125 286.066406 \"/>\n",
       "<path style=\" stroke:none;fill-rule:nonzero;fill:rgb(26.666667%,26.666667%,26.666667%);fill-opacity:1;\" d=\"M 508.324219 277.609375 L 522.558594 282.335938 L 517.0625 289.800781 L 508.324219 277.609375 \"/>\n",
       "<path style=\"fill:none;stroke-width:1;stroke-linecap:butt;stroke-linejoin:miter;stroke:rgb(26.666667%,26.666667%,26.666667%);stroke-opacity:1;stroke-miterlimit:10;\" d=\"M 580 522.710938 L 213.292969 576.480469 \"/>\n",
       "<path style=\" stroke:none;fill-rule:nonzero;fill:rgb(26.666667%,26.666667%,26.666667%);fill-opacity:1;\" d=\"M 199.179688 578.550781 L 212.621094 571.894531 L 213.964844 581.066406 L 199.179688 578.550781 \"/>\n",
       "<path style=\"fill:none;stroke-width:1;stroke-linecap:butt;stroke-linejoin:miter;stroke:rgb(26.666667%,26.666667%,26.666667%);stroke-opacity:1;stroke-miterlimit:10;\" d=\"M 96.699219 330.640625 L 476.222656 275.164062 \"/>\n",
       "<path style=\" stroke:none;fill-rule:nonzero;fill:rgb(26.666667%,26.666667%,26.666667%);fill-opacity:1;\" d=\"M 490.339844 273.101562 L 476.894531 279.75 L 475.554688 270.578125 L 490.339844 273.101562 \"/>\n",
       "<path style=\"fill:none;stroke-width:1;stroke-linecap:butt;stroke-linejoin:miter;stroke:rgb(26.666667%,26.666667%,26.666667%);stroke-opacity:1;stroke-miterlimit:10;\" d=\"M 96.699219 330.640625 C 61.835938 427.359375 83.492188 509.6875 169.039062 566.542969 \"/>\n",
       "<path style=\" stroke:none;fill-rule:nonzero;fill:rgb(26.666667%,26.666667%,26.666667%);fill-opacity:1;\" d=\"M 180.917969 574.4375 L 166.472656 570.402344 L 171.601562 562.683594 L 180.917969 574.4375 \"/>\n",
       "<path style=\"fill:none;stroke-width:1;stroke-linecap:butt;stroke-linejoin:miter;stroke:rgb(26.666667%,26.666667%,26.666667%);stroke-opacity:1;stroke-miterlimit:10;\" d=\"M 96.699219 330.640625 L 27.058594 101.613281 \"/>\n",
       "<path style=\" stroke:none;fill-rule:nonzero;fill:rgb(26.666667%,26.666667%,26.666667%);fill-opacity:1;\" d=\"M 22.910156 87.964844 L 31.492188 100.265625 L 22.625 102.960938 L 22.910156 87.964844 \"/>\n",
       "<path style=\"fill:none;stroke-width:1;stroke-linecap:butt;stroke-linejoin:miter;stroke:rgb(26.666667%,26.666667%,26.666667%);stroke-opacity:1;stroke-miterlimit:10;\" d=\"M 408.269531 20 L 491.90625 248.863281 \"/>\n",
       "<path style=\" stroke:none;fill-rule:nonzero;fill:rgb(26.666667%,26.666667%,26.666667%);fill-opacity:1;\" d=\"M 496.800781 262.261719 L 487.550781 250.453125 L 496.257812 247.273438 L 496.800781 262.261719 \"/>\n",
       "<path style=\"fill-rule:nonzero;fill:rgb(100%,0%,0%);fill-opacity:1;stroke-width:1;stroke-linecap:butt;stroke-linejoin:miter;stroke:rgb(0%,0%,0%);stroke-opacity:1;stroke-miterlimit:10;\" d=\"M 510.234375 271.65625 C 510.234375 277.175781 505.757812 281.65625 500.234375 281.65625 C 494.710938 281.65625 490.234375 277.175781 490.234375 271.65625 C 490.234375 266.132812 494.710938 261.65625 500.234375 261.65625 C 505.757812 261.65625 510.234375 266.132812 510.234375 271.65625 \"/>\n",
       "<path style=\"fill-rule:nonzero;fill:rgb(100%,0%,0%);fill-opacity:1;stroke-width:1;stroke-linecap:butt;stroke-linejoin:miter;stroke:rgb(0%,0%,0%);stroke-opacity:1;stroke-miterlimit:10;\" d=\"M 199.285156 580 C 199.285156 585.523438 194.808594 590 189.285156 590 C 183.761719 590 179.285156 585.523438 179.285156 580 C 179.285156 574.476562 183.761719 570 189.285156 570 C 194.808594 570 199.285156 574.476562 199.285156 580 \"/>\n",
       "<path style=\"fill-rule:nonzero;fill:rgb(100%,0%,0%);fill-opacity:1;stroke-width:1;stroke-linecap:butt;stroke-linejoin:miter;stroke:rgb(0%,0%,0%);stroke-opacity:1;stroke-miterlimit:10;\" d=\"M 30 78.398438 C 30 83.917969 25.523438 88.398438 20 88.398438 C 14.476562 88.398438 10 83.917969 10 78.398438 C 10 72.875 14.476562 68.398438 20 68.398438 C 25.523438 68.398438 30 72.875 30 78.398438 \"/>\n",
       "<path style=\"fill-rule:nonzero;fill:rgb(100%,0%,0%);fill-opacity:1;stroke-width:1;stroke-linecap:butt;stroke-linejoin:miter;stroke:rgb(0%,0%,0%);stroke-opacity:1;stroke-miterlimit:10;\" d=\"M 590 522.710938 C 590 528.234375 585.523438 532.710938 580 532.710938 C 574.476562 532.710938 570 528.234375 570 522.710938 C 570 517.1875 574.476562 512.710938 580 512.710938 C 585.523438 512.710938 590 517.1875 590 522.710938 \"/>\n",
       "<path style=\"fill-rule:nonzero;fill:rgb(100%,0%,0%);fill-opacity:1;stroke-width:1;stroke-linecap:butt;stroke-linejoin:miter;stroke:rgb(0%,0%,0%);stroke-opacity:1;stroke-miterlimit:10;\" d=\"M 106.699219 330.640625 C 106.699219 336.164062 102.222656 340.640625 96.699219 340.640625 C 91.175781 340.640625 86.699219 336.164062 86.699219 330.640625 C 86.699219 325.117188 91.175781 320.640625 96.699219 320.640625 C 102.222656 320.640625 106.699219 325.117188 106.699219 330.640625 \"/>\n",
       "<path style=\"fill-rule:nonzero;fill:rgb(100%,0%,0%);fill-opacity:1;stroke-width:1;stroke-linecap:butt;stroke-linejoin:miter;stroke:rgb(0%,0%,0%);stroke-opacity:1;stroke-miterlimit:10;\" d=\"M 418.269531 20 C 418.269531 25.523438 413.792969 30 408.269531 30 C 402.746094 30 398.269531 25.523438 398.269531 20 C 398.269531 14.476562 402.746094 10 408.269531 10 C 413.792969 10 418.269531 14.476562 418.269531 20 \"/>\n",
       "</g>\n",
       "</svg>\n"
      ],
      "text/plain": [
       "<igraph.drawing.Plot at 0x10f6e56d0>"
      ]
     },
     "execution_count": 12,
     "metadata": {},
     "output_type": "execute_result"
    }
   ],
   "source": [
    "layout = g.layout(\"kk\")\n",
    "plot(g, layout = layout)"
   ]
  },
  {
   "cell_type": "code",
   "execution_count": null,
   "metadata": {},
   "outputs": [],
   "source": []
  }
 ],
 "metadata": {
  "kernelspec": {
   "display_name": "JuretaGraph",
   "language": "python",
   "name": "juretagraph"
  },
  "language_info": {
   "codemirror_mode": {
    "name": "ipython",
    "version": 2
   },
   "file_extension": ".py",
   "mimetype": "text/x-python",
   "name": "python",
   "nbconvert_exporter": "python",
   "pygments_lexer": "ipython2",
   "version": "2.7.10"
  }
 },
 "nbformat": 4,
 "nbformat_minor": 2
}
